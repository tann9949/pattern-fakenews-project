{
 "cells": [
  {
   "cell_type": "markdown",
   "id": "2754253d",
   "metadata": {},
   "source": [
    "# Baseline for LimeSoda: TF-IDF + nbSVM"
   ]
  },
  {
   "cell_type": "markdown",
   "id": "6c8fb651",
   "metadata": {
    "tags": []
   },
   "source": [
    "## Installing dependencies"
   ]
  },
  {
   "cell_type": "code",
   "execution_count": 4,
   "id": "2c2ff01a",
   "metadata": {},
   "outputs": [
    {
     "name": "stdout",
     "output_type": "stream",
     "text": [
      "\u001b[33mWARNING: You are using pip version 22.0.4; however, version 22.1 is available.\n",
      "You should consider upgrading via the '/samsung-4tb/cp-eng/pattern/course-projects/pattern-env/bin/python -m pip install --upgrade pip' command.\u001b[0m\u001b[33m\n",
      "\u001b[0m"
     ]
    }
   ],
   "source": [
    "!pip install -q pythainlp sklearn tqdm pandas torch emoji seaborn"
   ]
  },
  {
   "cell_type": "code",
   "execution_count": 2,
   "id": "51e9702c",
   "metadata": {},
   "outputs": [
    {
     "name": "stdout",
     "output_type": "stream",
     "text": [
      "/workspace\n"
     ]
    }
   ],
   "source": [
    "# %cd /samsung-4tb/cp-eng/pattern/course-projects\n",
    "%cd /workspace\n",
    "import json\n",
    "import re\n",
    "\n",
    "import numpy as np\n",
    "import pandas as pd\n",
    "import seaborn as sns\n",
    "from sklearn.feature_extraction.text import TfidfVectorizer\n",
    "from sklearn.metrics import classification_report\n",
    "from sklearn.model_selection import GridSearchCV, train_test_split\n",
    "from sklearn.pipeline import Pipeline\n",
    "from tqdm.auto import tqdm\n",
    "\n",
    "from baseline.tokenizer import tokenize\n",
    "from baseline.model import NbSVC, NbLogisticRegression\n",
    "from baseline.evaluate import evaluate\n",
    "\n",
    "# LIMESODA_DIR = \"/samsung-4tb/cp-eng/pattern/course-projects/dataset/LimeSoda/\"\n",
    "LIMESODA_DIR = \"/workspace/dataset/LimeSoda/\"\n",
    "DELIMITER = \" \""
   ]
  },
  {
   "cell_type": "markdown",
   "id": "372bab08",
   "metadata": {},
   "source": [
    "## Preparing Data"
   ]
  },
  {
   "cell_type": "markdown",
   "id": "1167854c",
   "metadata": {},
   "source": [
    "Quoted from LimeSoda Paper\n",
    "\n",
    "> The training dataset consists of two parts where each\n",
    "document in both parts are labeled as “Fact” or “Fake”. The\n",
    "**undefined categories are disregarded** due to the assumption\n",
    "that every healthcare-related news will fall into fact or fake\n",
    "sets which could be the noise. For the preliminary analysis,\n",
    "we simplify the multi-label token tags into the binary vector\n",
    "or HAM for comparing the attentive similarity to humans.\n",
    "\n",
    "> **We use the first part as our training set with 10% of that are\n",
    "randomly selected to be our validation set. Then, the second\n",
    "part is used as our test set.** The models are trained as a binary\n",
    "classification task. We do not use the tags from experts to\n",
    "supervise the attention weights, allowing the models to learn\n",
    "to attend independently"
   ]
  },
  {
   "cell_type": "code",
   "execution_count": 3,
   "id": "0d8bc0f7",
   "metadata": {},
   "outputs": [
    {
     "data": {
      "application/vnd.jupyter.widget-view+json": {
       "model_id": "1c1cddc532244c43a2be801d71098afc",
       "version_major": 2,
       "version_minor": 0
      },
      "text/plain": [
       "  0%|          | 0/2698 [00:00<?, ?it/s]"
      ]
     },
     "metadata": {},
     "output_type": "display_data"
    },
    {
     "data": {
      "application/vnd.jupyter.widget-view+json": {
       "model_id": "a31df6a3c07540d898f78ecc12bbbb11",
       "version_major": 2,
       "version_minor": 0
      },
      "text/plain": [
       "  0%|          | 0/300 [00:00<?, ?it/s]"
      ]
     },
     "metadata": {},
     "output_type": "display_data"
    },
    {
     "data": {
      "application/vnd.jupyter.widget-view+json": {
       "model_id": "f6d93e39814940eda597f1b1e9e18d25",
       "version_major": 2,
       "version_minor": 0
      },
      "text/plain": [
       "  0%|          | 0/2765 [00:00<?, ?it/s]"
      ]
     },
     "metadata": {},
     "output_type": "display_data"
    }
   ],
   "source": [
    "def read_limesoda(delimiter=\" \"):\n",
    "    train, val, test = [], [], []\n",
    "    mapper = {\"Fake News\": 0, \"Fact News\": 1}\n",
    "    \n",
    "    # train\n",
    "    with open(f\"{LIMESODA_DIR}//../tempLimesoda/train_v1.jsonl\", \"r\") as f:\n",
    "        for line in tqdm(f.readlines()):\n",
    "            line = json.loads(line)\n",
    "            line[\"label\"] = mapper[line[\"Document Tag\"]]\n",
    "            line[\"text\"] = delimiter.join([t for t in line[\"Text\"] if len(t.strip()) > 0])\n",
    "            line.pop(\"Document Tag\")\n",
    "            line.pop(\"Text\")\n",
    "            train.append(line)\n",
    "           \n",
    "    # val\n",
    "    with open(f\"{LIMESODA_DIR}//../tempLimesoda/val_v1.jsonl\", \"r\") as f:\n",
    "        for line in tqdm(f.readlines()):\n",
    "            line = json.loads(line)\n",
    "            line[\"label\"] = mapper[line[\"Document Tag\"]]\n",
    "            line[\"text\"] = delimiter.join([t for t in line[\"Text\"] if len(t) > 0])\n",
    "            line.pop(\"Document Tag\")\n",
    "            line.pop(\"Text\")\n",
    "            val.append(line)\n",
    "            \n",
    "    with open(f\"{LIMESODA_DIR}//../tempLimesoda/test_v1.jsonl\", \"r\") as f:\n",
    "        for line in tqdm(f.readlines()):\n",
    "            line = json.loads(line)\n",
    "            if line[\"Document Tag\"] not in mapper.keys():\n",
    "                continue\n",
    "            line[\"label\"] = mapper[line[\"Document Tag\"]]\n",
    "            line[\"text\"] = delimiter.join([t for t in line[\"Text\"] if len(t) > 0])\n",
    "            line.pop(\"Document Tag\")\n",
    "            line.pop(\"Text\")\n",
    "            test.append(line)\n",
    "\n",
    "    return {\n",
    "        \"train\": pd.DataFrame(train),\n",
    "        \"val\": pd.DataFrame(val),\n",
    "        \"test\": pd.DataFrame(test)\n",
    "    }\n",
    "            \n",
    "dataset = read_limesoda(delimiter=DELIMITER)"
   ]
  },
  {
   "cell_type": "code",
   "execution_count": 4,
   "id": "5dda0ecc",
   "metadata": {},
   "outputs": [
    {
     "data": {
      "text/html": [
       "<div>\n",
       "<style scoped>\n",
       "    .dataframe tbody tr th:only-of-type {\n",
       "        vertical-align: middle;\n",
       "    }\n",
       "\n",
       "    .dataframe tbody tr th {\n",
       "        vertical-align: top;\n",
       "    }\n",
       "\n",
       "    .dataframe thead th {\n",
       "        text-align: right;\n",
       "    }\n",
       "</style>\n",
       "<table border=\"1\" class=\"dataframe\">\n",
       "  <thead>\n",
       "    <tr style=\"text-align: right;\">\n",
       "      <th></th>\n",
       "      <th>label</th>\n",
       "      <th>text</th>\n",
       "    </tr>\n",
       "  </thead>\n",
       "  <tbody>\n",
       "    <tr>\n",
       "      <th>0</th>\n",
       "      <td>1</td>\n",
       "      <td>เพื่อน ๆ รู้ ไหม ครับ ว่า \" การ ล้าง มือ \" มี ...</td>\n",
       "    </tr>\n",
       "    <tr>\n",
       "      <th>1</th>\n",
       "      <td>1</td>\n",
       "      <td>เทรนด์ กิ๊บเก๋ ... ป้องกัน โรค ||| ฮัดเช้ยยยย ...</td>\n",
       "    </tr>\n",
       "    <tr>\n",
       "      <th>2</th>\n",
       "      <td>1</td>\n",
       "      <td>สถาน เอกอัครราชทูต คูเวต งด ออกวี ซ่า แก่ คน ต...</td>\n",
       "    </tr>\n",
       "    <tr>\n",
       "      <th>3</th>\n",
       "      <td>1</td>\n",
       "      <td>สั่ง ตรวจสอบ \" ลูก ตุ้ม พลังธาตุ \" ของขลัง ฆ่า...</td>\n",
       "    </tr>\n",
       "    <tr>\n",
       "      <th>4</th>\n",
       "      <td>0</td>\n",
       "      <td>เรา ไม่ รู้ ว่า Covid - 19 กลัว ขิง กับ กัญชา ...</td>\n",
       "    </tr>\n",
       "    <tr>\n",
       "      <th>...</th>\n",
       "      <td>...</td>\n",
       "      <td>...</td>\n",
       "    </tr>\n",
       "    <tr>\n",
       "      <th>2693</th>\n",
       "      <td>0</td>\n",
       "      <td>SaaPannisa ไข่ มุก นั้น ทำ มา จาก แป้ง มันสำปะ...</td>\n",
       "    </tr>\n",
       "    <tr>\n",
       "      <th>2694</th>\n",
       "      <td>1</td>\n",
       "      <td>ออก กำลัง กาย ไล่ ความ ดัน โลหิต สูง ||| โดย ก...</td>\n",
       "    </tr>\n",
       "    <tr>\n",
       "      <th>2695</th>\n",
       "      <td>1</td>\n",
       "      <td>‘ ผู้ ชาย - คน อ้วน ’ เสี่ยง ป่วย หนักหาก ติด ...</td>\n",
       "    </tr>\n",
       "    <tr>\n",
       "      <th>2696</th>\n",
       "      <td>0</td>\n",
       "      <td>กระเทียม สุด ยอด ผัก จริง ๆ ตั้งแต่ ค . แข็ง ย...</td>\n",
       "    </tr>\n",
       "    <tr>\n",
       "      <th>2697</th>\n",
       "      <td>1</td>\n",
       "      <td>“ ทักษะ มนุษย์ ใน ศตวรรษ ที่ 21 จะ ต้อง มี 7 Q...</td>\n",
       "    </tr>\n",
       "  </tbody>\n",
       "</table>\n",
       "<p>2698 rows × 2 columns</p>\n",
       "</div>"
      ],
      "text/plain": [
       "      label                                               text\n",
       "0         1  เพื่อน ๆ รู้ ไหม ครับ ว่า \" การ ล้าง มือ \" มี ...\n",
       "1         1  เทรนด์ กิ๊บเก๋ ... ป้องกัน โรค ||| ฮัดเช้ยยยย ...\n",
       "2         1  สถาน เอกอัครราชทูต คูเวต งด ออกวี ซ่า แก่ คน ต...\n",
       "3         1  สั่ง ตรวจสอบ \" ลูก ตุ้ม พลังธาตุ \" ของขลัง ฆ่า...\n",
       "4         0  เรา ไม่ รู้ ว่า Covid - 19 กลัว ขิง กับ กัญชา ...\n",
       "...     ...                                                ...\n",
       "2693      0  SaaPannisa ไข่ มุก นั้น ทำ มา จาก แป้ง มันสำปะ...\n",
       "2694      1  ออก กำลัง กาย ไล่ ความ ดัน โลหิต สูง ||| โดย ก...\n",
       "2695      1  ‘ ผู้ ชาย - คน อ้วน ’ เสี่ยง ป่วย หนักหาก ติด ...\n",
       "2696      0  กระเทียม สุด ยอด ผัก จริง ๆ ตั้งแต่ ค . แข็ง ย...\n",
       "2697      1  “ ทักษะ มนุษย์ ใน ศตวรรษ ที่ 21 จะ ต้อง มี 7 Q...\n",
       "\n",
       "[2698 rows x 2 columns]"
      ]
     },
     "execution_count": 4,
     "metadata": {},
     "output_type": "execute_result"
    }
   ],
   "source": [
    "dataset[\"train\"]"
   ]
  },
  {
   "cell_type": "markdown",
   "id": "99352eb7",
   "metadata": {
    "tags": []
   },
   "source": [
    "## EDA"
   ]
  },
  {
   "cell_type": "code",
   "execution_count": 172,
   "id": "8e880233",
   "metadata": {},
   "outputs": [
    {
     "data": {
      "text/plain": [
       "Undefined    2327\n",
       "Fake News     401\n",
       "Fact News      37\n",
       "dtype: int64"
      ]
     },
     "execution_count": 172,
     "metadata": {},
     "output_type": "execute_result"
    }
   ],
   "source": [
    "with open(f\"{LIMESODA_DIR}//../tempLimesoda/test_v1.jsonl\", \"r\") as f:\n",
    "    lines = f.readlines()\n",
    "pd.Series([json.loads(l)[\"Document Tag\"] for l in lines]).value_counts()"
   ]
  },
  {
   "cell_type": "code",
   "execution_count": 173,
   "id": "972752ca",
   "metadata": {},
   "outputs": [
    {
     "data": {
      "text/plain": [
       "Fact News    1369\n",
       "Fake News    1329\n",
       "dtype: int64"
      ]
     },
     "execution_count": 173,
     "metadata": {},
     "output_type": "execute_result"
    }
   ],
   "source": [
    "with open(f\"{LIMESODA_DIR}//../tempLimesoda/train_v1.jsonl\", \"r\") as f:\n",
    "    lines = f.readlines()\n",
    "pd.Series([json.loads(l)[\"Document Tag\"] for l in lines]).value_counts()"
   ]
  },
  {
   "cell_type": "code",
   "execution_count": 174,
   "id": "0338fcda",
   "metadata": {},
   "outputs": [
    {
     "data": {
      "text/plain": [
       "Fact News    152\n",
       "Fake News    148\n",
       "dtype: int64"
      ]
     },
     "execution_count": 174,
     "metadata": {},
     "output_type": "execute_result"
    }
   ],
   "source": [
    "with open(f\"{LIMESODA_DIR}//../tempLimesoda/val_v1.jsonl\", \"r\") as f:\n",
    "    lines = f.readlines()\n",
    "pd.Series([json.loads(l)[\"Document Tag\"] for l in lines]).value_counts()"
   ]
  },
  {
   "cell_type": "code",
   "execution_count": 175,
   "id": "d04e9ad0",
   "metadata": {},
   "outputs": [
    {
     "data": {
      "text/plain": [
       "438"
      ]
     },
     "execution_count": 175,
     "metadata": {},
     "output_type": "execute_result"
    }
   ],
   "source": [
    "len(dataset[\"test\"])"
   ]
  },
  {
   "cell_type": "code",
   "execution_count": 176,
   "id": "5fa1482d",
   "metadata": {},
   "outputs": [
    {
     "data": {
      "text/plain": [
       "300"
      ]
     },
     "execution_count": 176,
     "metadata": {},
     "output_type": "execute_result"
    }
   ],
   "source": [
    "len(dataset[\"val\"])"
   ]
  },
  {
   "cell_type": "code",
   "execution_count": 177,
   "id": "a7def3ec",
   "metadata": {},
   "outputs": [
    {
     "data": {
      "text/plain": [
       "2698"
      ]
     },
     "execution_count": 177,
     "metadata": {},
     "output_type": "execute_result"
    }
   ],
   "source": [
    "len(dataset[\"train\"])"
   ]
  },
  {
   "cell_type": "code",
   "execution_count": 178,
   "id": "735eb246",
   "metadata": {},
   "outputs": [
    {
     "data": {
      "image/png": "[encoded data removed]",
      "text/plain": [
       "<Figure size 720x216 with 3 Axes>"
      ]
     },
     "metadata": {},
     "output_type": "display_data"
    }
   ],
   "source": [
    "import matplotlib.pyplot as plt\n",
    "\n",
    "\n",
    "fig, ax = plt.subplots(1, 3, figsize=(10, 3))\n",
    "dataset[\"train\"][\"label\"].value_counts().plot.pie(autopct=\"%.2f\", ax=ax[0])\n",
    "dataset[\"val\"][\"label\"].value_counts().plot.pie(autopct=\"%.2f\", ax=ax[1])\n",
    "dataset[\"test\"][\"label\"].value_counts().plot.pie(autopct=\"%.2f\", ax=ax[2])\n",
    "\n",
    "ax[0].set_title(\"Train distribution\")\n",
    "ax[1].set_title(\"Validation distribution\")\n",
    "ax[2].set_title(\"Test distribution\")\n",
    "plt.show()"
   ]
  },
  {
   "cell_type": "markdown",
   "id": "df63e635",
   "metadata": {},
   "source": [
    "## Definining Pipeline"
   ]
  },
  {
   "cell_type": "code",
   "execution_count": 179,
   "id": "c959dedc",
   "metadata": {},
   "outputs": [],
   "source": [
    "parameters_grid = {\n",
    "    # tfidf grids\n",
    "    \"tfidf__ngram_range\": [[1, 2]],\n",
    "    \"tfidf__min_df\": [5, 7],\n",
    "    \"tfidf__max_df\": [0.5, 0.6],\n",
    "    \"tfidf__use_idf\": [True],\n",
    "    \"tfidf__smooth_idf\": [True, False],\n",
    "    \"tfidf__sublinear_tf\": [True, False],\n",
    "    \"tfidf__tokenizer\": [lambda x: x.split(DELIMITER)],\n",
    "    \"tfidf__token_pattern\": [None],\n",
    "\n",
    "    # clf grids\n",
    "    \"clf__alpha\": [0.5, 0.75],\n",
    "    # \"clf__kernel\": [\"rbf\", \"linear\"],\n",
    "    # \"clf__gamma\": \"scale\",\n",
    "    \"clf__C\": [1.],\n",
    "}"
   ]
  },
  {
   "cell_type": "code",
   "execution_count": 180,
   "id": "f2a7cc4d",
   "metadata": {},
   "outputs": [],
   "source": [
    "pipeline = Pipeline([\n",
    "    (\"tfidf\", TfidfVectorizer()),\n",
    "    (\"clf\", NbLogisticRegression())\n",
    "])"
   ]
  },
  {
   "cell_type": "code",
   "execution_count": 181,
   "id": "b836f669",
   "metadata": {},
   "outputs": [],
   "source": [
    "clf = GridSearchCV(\n",
    "    estimator=pipeline,\n",
    "    param_grid=parameters_grid,\n",
    "    scoring=\"accuracy\",\n",
    "    n_jobs=-1,\n",
    ")"
   ]
  },
  {
   "cell_type": "markdown",
   "id": "c069c99b",
   "metadata": {},
   "source": [
    "## Grid Search"
   ]
  },
  {
   "cell_type": "code",
   "execution_count": 182,
   "id": "76b73e3d",
   "metadata": {},
   "outputs": [],
   "source": [
    "x_train, y_train = dataset[\"train\"][\"text\"].values, dataset[\"train\"][\"label\"].values\n",
    "x_val, y_val = dataset[\"val\"][\"text\"].values, dataset[\"val\"][\"label\"].values\n",
    "x_test, y_test = dataset[\"test\"][\"text\"].values, dataset[\"test\"][\"label\"].values"
   ]
  },
  {
   "cell_type": "code",
   "execution_count": 183,
   "id": "944cf57b",
   "metadata": {
    "tags": []
   },
   "outputs": [
    {
     "data": {
      "text/plain": [
       "GridSearchCV(estimator=Pipeline(steps=[('tfidf', TfidfVectorizer()),\n",
       "                                       ('clf', NbLogisticRegression())]),\n",
       "             n_jobs=-1,\n",
       "             param_grid={'clf__C': [1.0], 'clf__alpha': [0.5, 0.75],\n",
       "                         'tfidf__max_df': [0.5, 0.6], 'tfidf__min_df': [5, 7],\n",
       "                         'tfidf__ngram_range': [[1, 2]],\n",
       "                         'tfidf__smooth_idf': [True, False],\n",
       "                         'tfidf__sublinear_tf': [True, False],\n",
       "                         'tfidf__token_pattern': [None],\n",
       "                         'tfidf__tokenizer': [<function <lambda> at 0x7fd5efa3bdc0>],\n",
       "                         'tfidf__use_idf': [True]},\n",
       "             scoring='accuracy')"
      ]
     },
     "execution_count": 183,
     "metadata": {},
     "output_type": "execute_result"
    }
   ],
   "source": [
    "clf.fit(x_train, y_train)"
   ]
  },
  {
   "cell_type": "code",
   "execution_count": 184,
   "id": "f8cbe48f",
   "metadata": {},
   "outputs": [
    {
     "data": {
      "text/plain": [
       "{'clf__C': 1.0,\n",
       " 'clf__alpha': 0.5,\n",
       " 'tfidf__max_df': 0.5,\n",
       " 'tfidf__min_df': 5,\n",
       " 'tfidf__ngram_range': [1, 2],\n",
       " 'tfidf__smooth_idf': True,\n",
       " 'tfidf__sublinear_tf': True,\n",
       " 'tfidf__token_pattern': None,\n",
       " 'tfidf__tokenizer': <function __main__.<lambda>(x)>,\n",
       " 'tfidf__use_idf': True}"
      ]
     },
     "execution_count": 184,
     "metadata": {},
     "output_type": "execute_result"
    }
   ],
   "source": [
    "clf.best_params_"
   ]
  },
  {
   "cell_type": "markdown",
   "id": "f5eb751a",
   "metadata": {},
   "source": [
    "## Baseline\n",
    "Mode prediction."
   ]
  },
  {
   "cell_type": "code",
   "execution_count": 185,
   "id": "269f0fae",
   "metadata": {},
   "outputs": [
    {
     "data": {
      "text/plain": [
       "1    1369\n",
       "0    1329\n",
       "dtype: int64"
      ]
     },
     "execution_count": 185,
     "metadata": {},
     "output_type": "execute_result"
    }
   ],
   "source": [
    "pd.Series(y_train).value_counts()"
   ]
  },
  {
   "cell_type": "code",
   "execution_count": 186,
   "id": "7b1433c4",
   "metadata": {},
   "outputs": [
    {
     "name": "stdout",
     "output_type": "stream",
     "text": [
      "              precision    recall  f1-score   support\n",
      "\n",
      "           0     0.9155    1.0000    0.9559       401\n",
      "           1     0.0000    0.0000    0.0000        37\n",
      "\n",
      "    accuracy                         0.9155       438\n",
      "   macro avg     0.4578    0.5000    0.4779       438\n",
      "weighted avg     0.8382    0.9155    0.8752       438\n",
      "\n"
     ]
    },
    {
     "name": "stderr",
     "output_type": "stream",
     "text": [
      "/samsung-ssd/works/cp-master/pattern/course-projects/pattern-env/lib/python3.8/site-packages/sklearn/metrics/_classification.py:1318: UndefinedMetricWarning: Precision and F-score are ill-defined and being set to 0.0 in labels with no predicted samples. Use `zero_division` parameter to control this behavior.\n",
      "  _warn_prf(average, modifier, msg_start, len(result))\n",
      "/samsung-ssd/works/cp-master/pattern/course-projects/pattern-env/lib/python3.8/site-packages/sklearn/metrics/_classification.py:1318: UndefinedMetricWarning: Precision and F-score are ill-defined and being set to 0.0 in labels with no predicted samples. Use `zero_division` parameter to control this behavior.\n",
      "  _warn_prf(average, modifier, msg_start, len(result))\n",
      "/samsung-ssd/works/cp-master/pattern/course-projects/pattern-env/lib/python3.8/site-packages/sklearn/metrics/_classification.py:1318: UndefinedMetricWarning: Precision and F-score are ill-defined and being set to 0.0 in labels with no predicted samples. Use `zero_division` parameter to control this behavior.\n",
      "  _warn_prf(average, modifier, msg_start, len(result))\n"
     ]
    }
   ],
   "source": [
    "import numpy as np\n",
    "from sklearn.metrics import classification_report\n",
    "\n",
    "print(classification_report(y_test, np.zeros_like(y_test), digits=4))"
   ]
  },
  {
   "cell_type": "markdown",
   "id": "b2e5f168",
   "metadata": {},
   "source": [
    "## Evaluation"
   ]
  },
  {
   "cell_type": "code",
   "execution_count": 187,
   "id": "21e3b195",
   "metadata": {},
   "outputs": [],
   "source": [
    "y_pred = clf.predict(x_test)"
   ]
  },
  {
   "cell_type": "code",
   "execution_count": 188,
   "id": "a0536e7d",
   "metadata": {},
   "outputs": [],
   "source": [
    "results = evaluate(clf, x_test, y_test)\n",
    "_ = results.pop(\"prediction\")"
   ]
  },
  {
   "cell_type": "code",
   "execution_count": 189,
   "id": "da02bd06",
   "metadata": {},
   "outputs": [
    {
     "data": {
      "text/plain": [
       "{'accuracy': {'overall': 0.863013698630137, 'average': 0.8147873559344881},\n",
       " 'recall': {'micro': 0.863013698630137, 'macro': 0.8147873559344881},\n",
       " 'precision': {'micro': 0.863013698630137, 'macro': 0.6646803709319136},\n",
       " 'f1': {'micro': 0.863013698630137, 'macro': 0.7019056261343013},\n",
       " 'confusion_matrix': {'none': [[350, 51], [9, 28]],\n",
       "  'true': [[0.8728179551122195, 0.12718204488778054],\n",
       "   [0.24324324324324326, 0.7567567567567568]],\n",
       "  'pred': [[0.9749303621169917, 0.6455696202531646],\n",
       "   [0.025069637883008356, 0.35443037974683544]]}}"
      ]
     },
     "execution_count": 189,
     "metadata": {},
     "output_type": "execute_result"
    }
   ],
   "source": [
    "results"
   ]
  },
  {
   "cell_type": "code",
   "execution_count": 190,
   "id": "1a8dd2f5",
   "metadata": {},
   "outputs": [
    {
     "data": {
      "text/plain": [
       "<AxesSubplot:>"
      ]
     },
     "execution_count": 190,
     "metadata": {},
     "output_type": "execute_result"
    },
    {
     "data": {
      "image/png": "[encoded data removed]",
      "text/plain": [
       "<Figure size 432x288 with 2 Axes>"
      ]
     },
     "metadata": {
      "needs_background": "light"
     },
     "output_type": "display_data"
    }
   ],
   "source": [
    "sns.heatmap(results[\"confusion_matrix\"][\"true\"], annot=True)"
   ]
  },
  {
   "cell_type": "markdown",
   "id": "70f7200e",
   "metadata": {
    "tags": []
   },
   "source": [
    "# Full pipeline"
   ]
  },
  {
   "cell_type": "code",
   "execution_count": null,
   "id": "88a880f8",
   "metadata": {},
   "outputs": [],
   "source": [
    "parameters_grid = {\n",
    "    # tfidf grids\n",
    "    \"tfidf__ngram_range\": [[1, 2]],\n",
    "    \"tfidf__min_df\": [5, 7],\n",
    "    \"tfidf__max_df\": [0.5, 0.6],\n",
    "    \"tfidf__use_idf\": [True],\n",
    "    \"tfidf__smooth_idf\": [True, False],\n",
    "    \"tfidf__sublinear_tf\": [True, False],\n",
    "    \"tfidf__tokenizer\": [lambda x: x.split(DELIMITER)],\n",
    "    \"tfidf__token_pattern\": [None],\n",
    "\n",
    "    # clf grids\n",
    "    \"clf__alpha\": [0.5, 0.75],\n",
    "    # \"clf__kernel\": [\"rbf\", \"linear\"],\n",
    "    # \"clf__gamma\": \"scale\",\n",
    "    \"clf__C\": [1.],\n",
    "}\n",
    "\n",
    "dataset = read_limesoda(delimiter=DELIMITER)\n",
    "\n",
    "for data_percentage in (1., 0.8, 0.6, 0.4):\n",
    "    pipeline = Pipeline([\n",
    "        (\"tfidf\", TfidfVectorizer()),\n",
    "        (\"clf\", NbLogisticRegression())\n",
    "    ])\n",
    "    \n",
    "    clf = GridSearchCV(\n",
    "        estimator=pipeline,\n",
    "        param_grid=parameters_grid,\n",
    "        scoring=\"accuracy\",\n",
    "        n_jobs=-1,\n",
    "    )\n",
    "    \n",
    "    \n",
    "    train_data = dataset[\"train\"].iloc[:int(len(dataset[\"train\"])*data_percentage)]\n",
    "    x_train, y_train = train_data[\"text\"].values, train_data[\"label\"].values\n",
    "    x_val, y_val = dataset[\"val\"][\"text\"].values, dataset[\"val\"][\"label\"].values\n",
    "    x_test, y_test = dataset[\"test\"][\"text\"].values, dataset[\"test\"][\"label\"].values\n",
    "    \n",
    "    clf.fit(x_train, y_train)\n",
    "    \n",
    "    y_pred = clf.predict(x_test)\n",
    "    \n",
    "    results = evaluate(clf, x_test, y_test)\n",
    "    _ = results.pop(\"prediction\")\n",
    "    \n",
    "    print(f\"Data Percentage: {data_percentage*100:.2f}%\")\n",
    "    print(f'\\t> Accuracy: {results[\"accuracy\"][\"overall\"]*100:.2f}%')\n",
    "    print(f'\\t> Macro F1: {results[\"f1\"][\"macro\"]*100:.2f}%\\n')"
   ]
  },
  {
   "cell_type": "code",
   "execution_count": null,
   "id": "ada4dfa0",
   "metadata": {},
   "outputs": [],
   "source": []
  }
 ],
 "metadata": {
  "kernelspec": {
   "display_name": "Python 3 (ipykernel)",
   "language": "python",
   "name": "python3"
  },
  "language_info": {
   "codemirror_mode": {
    "name": "ipython",
    "version": 3
   },
   "file_extension": ".py",
   "mimetype": "text/x-python",
   "name": "python",
   "nbconvert_exporter": "python",
   "pygments_lexer": "ipython3",
   "version": "3.8.12"
  }
 },
 "nbformat": 4,
 "nbformat_minor": 5
}
