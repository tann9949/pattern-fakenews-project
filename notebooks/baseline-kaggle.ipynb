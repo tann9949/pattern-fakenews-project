{
 "cells": [
  {
   "cell_type": "markdown",
   "id": "aa6e57cf-8744-4b3b-a01b-dd631584233e",
   "metadata": {},
   "source": [
    "# Baseline for LimeSoda: TF-IDF + nbSVM"
   ]
  },
  {
   "cell_type": "markdown",
   "id": "0ac51f4f-1c8d-4045-a772-fa3ac1c2d854",
   "metadata": {},
   "source": [
    "## Installing dependencies"
   ]
  },
  {
   "cell_type": "code",
   "execution_count": 1,
   "id": "73dc9c51-6593-4ada-9155-63e30ce719ab",
   "metadata": {},
   "outputs": [],
   "source": [
    "!pip install -q pythainlp sklearn tqdm pandas torch emoji seaborn"
   ]
  },
  {
   "cell_type": "code",
   "execution_count": 2,
   "id": "2548d691-5cb4-4067-8b42-a7cbea257506",
   "metadata": {},
   "outputs": [
    {
     "name": "stdout",
     "output_type": "stream",
     "text": [
      "/samsung-ssd/works/cp-master/pattern/course-projects\n"
     ]
    }
   ],
   "source": [
    "%cd /samsung-ssd/works/cp-master/pattern/course-projects\n",
    "import json\n",
    "from collections import Counter\n",
    "\n",
    "import numpy as np\n",
    "import pandas as pd\n",
    "import seaborn as sns\n",
    "from sklearn.feature_extraction.text import TfidfVectorizer\n",
    "from sklearn.metrics import classification_report\n",
    "from sklearn.model_selection import GridSearchCV, train_test_split\n",
    "from sklearn.pipeline import Pipeline\n",
    "from tqdm.auto import tqdm\n",
    "\n",
    "from baseline.tokenizer import tokenize\n",
    "from baseline.model import NbSVC, NbLogisticRegression\n",
    "from baseline.evaluate import evaluate\n",
    "\n",
    "KAGGLE_DIR = \"/samsung-ssd/works/cp-master/pattern/course-projects/dataset/Kaggle/\"\n",
    "DELIMITER = \" \""
   ]
  },
  {
   "cell_type": "markdown",
   "id": "eb514845-13a8-4b90-8347-197fce231d16",
   "metadata": {
    "tags": []
   },
   "source": [
    "## Preparing Data"
   ]
  },
  {
   "cell_type": "code",
   "execution_count": 110,
   "id": "aece5890-1a63-4afc-adb5-37b0a1bddac3",
   "metadata": {},
   "outputs": [],
   "source": [
    "def read_kaggle_data():\n",
    "    train = pd.read_csv(f\"{KAGGLE_DIR}/train.csv\").set_index(\"id\")\n",
    "    test = pd.read_csv(f\"{KAGGLE_DIR}/test.csv\").set_index(\"id\")\n",
    "    return train, test"
   ]
  },
  {
   "cell_type": "code",
   "execution_count": 111,
   "id": "9120a826-4460-4ff9-97dd-48392e5c26cf",
   "metadata": {},
   "outputs": [],
   "source": [
    "train_data, test_data = read_kaggle_data()"
   ]
  },
  {
   "cell_type": "code",
   "execution_count": 112,
   "id": "246da462-b1bf-4483-828a-45c6a6ed1480",
   "metadata": {},
   "outputs": [
    {
     "data": {
      "text/plain": [
       "title      558\n",
       "author    1957\n",
       "text        39\n",
       "label        0\n",
       "dtype: int64"
      ]
     },
     "execution_count": 112,
     "metadata": {},
     "output_type": "execute_result"
    }
   ],
   "source": [
    "train_data.isna().sum()"
   ]
  },
  {
   "cell_type": "code",
   "execution_count": 113,
   "id": "e5ca0a9a-e345-49fe-998a-d6d68c070f10",
   "metadata": {},
   "outputs": [
    {
     "data": {
      "text/plain": [
       "title     122\n",
       "author    503\n",
       "text        7\n",
       "dtype: int64"
      ]
     },
     "execution_count": 113,
     "metadata": {},
     "output_type": "execute_result"
    }
   ],
   "source": [
    "test_data.isna().sum()"
   ]
  },
  {
   "cell_type": "code",
   "execution_count": 114,
   "id": "d6e879f9-73a2-4ea5-a203-5ba3f604f65d",
   "metadata": {},
   "outputs": [
    {
     "data": {
      "text/html": [
       "<div>\n",
       "<style scoped>\n",
       "    .dataframe tbody tr th:only-of-type {\n",
       "        vertical-align: middle;\n",
       "    }\n",
       "\n",
       "    .dataframe tbody tr th {\n",
       "        vertical-align: top;\n",
       "    }\n",
       "\n",
       "    .dataframe thead th {\n",
       "        text-align: right;\n",
       "    }\n",
       "</style>\n",
       "<table border=\"1\" class=\"dataframe\">\n",
       "  <thead>\n",
       "    <tr style=\"text-align: right;\">\n",
       "      <th></th>\n",
       "      <th>title</th>\n",
       "      <th>author</th>\n",
       "      <th>text</th>\n",
       "      <th>label</th>\n",
       "    </tr>\n",
       "    <tr>\n",
       "      <th>id</th>\n",
       "      <th></th>\n",
       "      <th></th>\n",
       "      <th></th>\n",
       "      <th></th>\n",
       "    </tr>\n",
       "  </thead>\n",
       "  <tbody>\n",
       "    <tr>\n",
       "      <th>0</th>\n",
       "      <td>House Dem Aide: We Didn’t Even See Comey’s Let...</td>\n",
       "      <td>Darrell Lucus</td>\n",
       "      <td>House Dem Aide: We Didn’t Even See Comey’s Let...</td>\n",
       "      <td>1</td>\n",
       "    </tr>\n",
       "    <tr>\n",
       "      <th>1</th>\n",
       "      <td>FLYNN: Hillary Clinton, Big Woman on Campus - ...</td>\n",
       "      <td>Daniel J. Flynn</td>\n",
       "      <td>Ever get the feeling your life circles the rou...</td>\n",
       "      <td>0</td>\n",
       "    </tr>\n",
       "    <tr>\n",
       "      <th>2</th>\n",
       "      <td>Why the Truth Might Get You Fired</td>\n",
       "      <td>Consortiumnews.com</td>\n",
       "      <td>Why the Truth Might Get You Fired October 29, ...</td>\n",
       "      <td>1</td>\n",
       "    </tr>\n",
       "    <tr>\n",
       "      <th>3</th>\n",
       "      <td>15 Civilians Killed In Single US Airstrike Hav...</td>\n",
       "      <td>Jessica Purkiss</td>\n",
       "      <td>Videos 15 Civilians Killed In Single US Airstr...</td>\n",
       "      <td>1</td>\n",
       "    </tr>\n",
       "    <tr>\n",
       "      <th>4</th>\n",
       "      <td>Iranian woman jailed for fictional unpublished...</td>\n",
       "      <td>Howard Portnoy</td>\n",
       "      <td>Print \\nAn Iranian woman has been sentenced to...</td>\n",
       "      <td>1</td>\n",
       "    </tr>\n",
       "  </tbody>\n",
       "</table>\n",
       "</div>"
      ],
      "text/plain": [
       "                                                title              author  \\\n",
       "id                                                                          \n",
       "0   House Dem Aide: We Didn’t Even See Comey’s Let...       Darrell Lucus   \n",
       "1   FLYNN: Hillary Clinton, Big Woman on Campus - ...     Daniel J. Flynn   \n",
       "2                   Why the Truth Might Get You Fired  Consortiumnews.com   \n",
       "3   15 Civilians Killed In Single US Airstrike Hav...     Jessica Purkiss   \n",
       "4   Iranian woman jailed for fictional unpublished...      Howard Portnoy   \n",
       "\n",
       "                                                 text  label  \n",
       "id                                                            \n",
       "0   House Dem Aide: We Didn’t Even See Comey’s Let...      1  \n",
       "1   Ever get the feeling your life circles the rou...      0  \n",
       "2   Why the Truth Might Get You Fired October 29, ...      1  \n",
       "3   Videos 15 Civilians Killed In Single US Airstr...      1  \n",
       "4   Print \\nAn Iranian woman has been sentenced to...      1  "
      ]
     },
     "execution_count": 114,
     "metadata": {},
     "output_type": "execute_result"
    }
   ],
   "source": [
    "train_data.head()"
   ]
  },
  {
   "cell_type": "code",
   "execution_count": 115,
   "id": "c911407f-8c2b-4074-a902-35baddd873bf",
   "metadata": {},
   "outputs": [],
   "source": [
    "# drop na\n",
    "train_data = train_data[~train_data[\"title\"].isna()]\n",
    "test_data = test_data.fillna(\"\")"
   ]
  },
  {
   "cell_type": "markdown",
   "id": "a8f6bbb0-da77-4826-babb-18d19ec3c155",
   "metadata": {},
   "source": [
    "## EDA"
   ]
  },
  {
   "cell_type": "code",
   "execution_count": 116,
   "id": "cdc3f1c5-45cb-4e6f-8e99-1003f17e53b5",
   "metadata": {},
   "outputs": [
    {
     "data": {
      "text/plain": [
       "<AxesSubplot:ylabel='label'>"
      ]
     },
     "execution_count": 116,
     "metadata": {},
     "output_type": "execute_result"
    },
    {
     "data": {
      "image/png": "[encoded data removed]",
      "text/plain": [
       "<Figure size 432x288 with 1 Axes>"
      ]
     },
     "metadata": {},
     "output_type": "display_data"
    }
   ],
   "source": [
    "train_data[\"label\"].value_counts().plot.pie(autopct=\"%.2f\")"
   ]
  },
  {
   "cell_type": "code",
   "execution_count": 117,
   "id": "e5107aa1-c2f3-448b-adec-82f630fcc7d3",
   "metadata": {},
   "outputs": [
    {
     "data": {
      "text/plain": [
       "title        0\n",
       "author    1957\n",
       "text        39\n",
       "label        0\n",
       "dtype: int64"
      ]
     },
     "execution_count": 117,
     "metadata": {},
     "output_type": "execute_result"
    }
   ],
   "source": [
    "train_data.isna().sum()"
   ]
  },
  {
   "cell_type": "code",
   "execution_count": 118,
   "id": "40cdc2ba-ca53-4c9d-a989-ede35932a6e7",
   "metadata": {},
   "outputs": [
    {
     "data": {
      "text/plain": [
       "title     0\n",
       "author    0\n",
       "text      0\n",
       "dtype: int64"
      ]
     },
     "execution_count": 118,
     "metadata": {},
     "output_type": "execute_result"
    }
   ],
   "source": [
    "test_data.isna().sum()"
   ]
  },
  {
   "cell_type": "markdown",
   "id": "4b273b4c-63d0-4a4c-bbe2-999dac68b521",
   "metadata": {},
   "source": [
    "## Data Splitting"
   ]
  },
  {
   "cell_type": "code",
   "execution_count": 153,
   "id": "06b60061-83f5-40b1-8dd7-b4693f538ba9",
   "metadata": {},
   "outputs": [],
   "source": [
    "train, val = train_test_split(train_data, train_size=2698, stratify=train_data[\"label\"], random_state=1234)"
   ]
  },
  {
   "cell_type": "code",
   "execution_count": 154,
   "id": "d4bae013-a1b2-4bb6-873d-3d26d670b39c",
   "metadata": {},
   "outputs": [
    {
     "data": {
      "text/plain": [
       "(2698, 17544)"
      ]
     },
     "execution_count": 154,
     "metadata": {},
     "output_type": "execute_result"
    }
   ],
   "source": [
    "len(train), len(val)"
   ]
  },
  {
   "cell_type": "code",
   "execution_count": 155,
   "id": "99c11317-1bd7-4b68-98bc-4daded593758",
   "metadata": {},
   "outputs": [],
   "source": [
    "x_train, y_train = train[\"title\"].values, train[\"label\"].values\n",
    "x_val, y_val = val[\"title\"].values, val[\"label\"].values\n",
    "x_test = test[\"title\"].values"
   ]
  },
  {
   "cell_type": "markdown",
   "id": "ab35cb34-60ad-4542-9046-093df5f7667b",
   "metadata": {},
   "source": [
    "## Definining Pipeline"
   ]
  },
  {
   "cell_type": "code",
   "execution_count": 156,
   "id": "54af6f2d-bd7a-4fce-8035-19d0ca269517",
   "metadata": {},
   "outputs": [],
   "source": [
    "parameters_grid = {\n",
    "    # tfidf grids\n",
    "    \"tfidf__ngram_range\": [[1, 2]],\n",
    "    \"tfidf__min_df\": [1, 3, 5, 7],\n",
    "    \"tfidf__max_df\": [0.5, 0.6, 0.7, 0.8],\n",
    "    \"tfidf__use_idf\": [True],\n",
    "    \"tfidf__smooth_idf\": [True, False],\n",
    "    \"tfidf__sublinear_tf\": [True, False],\n",
    "    \"tfidf__tokenizer\": [lambda x: x.split(DELIMITER)],\n",
    "    \"tfidf__token_pattern\": [None],\n",
    "\n",
    "    # clf grids\n",
    "    \"clf__alpha\": [0.5, 0.75],\n",
    "    \"clf__C\": [1.],\n",
    "}"
   ]
  },
  {
   "cell_type": "code",
   "execution_count": 157,
   "id": "fd91f70e-cddb-4ff7-b885-9b7d5ca3d7e0",
   "metadata": {},
   "outputs": [],
   "source": [
    "pipeline = Pipeline([\n",
    "    (\"tfidf\", TfidfVectorizer()),\n",
    "    (\"clf\", NbLogisticRegression())\n",
    "])"
   ]
  },
  {
   "cell_type": "code",
   "execution_count": 158,
   "id": "dfe54911-e9ee-4a42-b9fa-54c4970fb873",
   "metadata": {},
   "outputs": [],
   "source": [
    "clf = GridSearchCV(\n",
    "    estimator=pipeline,\n",
    "    param_grid=parameters_grid,\n",
    "    scoring=\"accuracy\",\n",
    "    n_jobs=-1,\n",
    ")"
   ]
  },
  {
   "cell_type": "markdown",
   "id": "55679067-20f6-4fcd-b904-e6618ada296e",
   "metadata": {},
   "source": [
    "## Grid Search"
   ]
  },
  {
   "cell_type": "code",
   "execution_count": 159,
   "id": "ce1c604f-c0cf-40fe-9b49-7a31fc73de29",
   "metadata": {
    "tags": []
   },
   "outputs": [
    {
     "data": {
      "text/plain": [
       "GridSearchCV(estimator=Pipeline(steps=[('tfidf', TfidfVectorizer()),\n",
       "                                       ('clf', NbLogisticRegression())]),\n",
       "             n_jobs=-1,\n",
       "             param_grid={'clf__C': [1.0], 'clf__alpha': [0.5, 0.75],\n",
       "                         'tfidf__max_df': [0.5, 0.6], 'tfidf__min_df': [5, 7],\n",
       "                         'tfidf__ngram_range': [[1, 2]],\n",
       "                         'tfidf__smooth_idf': [True, False],\n",
       "                         'tfidf__sublinear_tf': [True, False],\n",
       "                         'tfidf__token_pattern': [None],\n",
       "                         'tfidf__tokenizer': [<function <lambda> at 0x7f72c6605820>],\n",
       "                         'tfidf__use_idf': [True]},\n",
       "             scoring='accuracy')"
      ]
     },
     "execution_count": 159,
     "metadata": {},
     "output_type": "execute_result"
    }
   ],
   "source": [
    "clf.fit(x_train, y_train)"
   ]
  },
  {
   "cell_type": "code",
   "execution_count": 160,
   "id": "276b46c4-5b51-4af9-8fa6-d4de308d57a0",
   "metadata": {},
   "outputs": [
    {
     "data": {
      "text/plain": [
       "{'clf__C': 1.0,\n",
       " 'clf__alpha': 0.5,\n",
       " 'tfidf__max_df': 0.5,\n",
       " 'tfidf__min_df': 5,\n",
       " 'tfidf__ngram_range': [1, 2],\n",
       " 'tfidf__smooth_idf': True,\n",
       " 'tfidf__sublinear_tf': False,\n",
       " 'tfidf__token_pattern': None,\n",
       " 'tfidf__tokenizer': <function __main__.<lambda>(x)>,\n",
       " 'tfidf__use_idf': True}"
      ]
     },
     "execution_count": 160,
     "metadata": {},
     "output_type": "execute_result"
    }
   ],
   "source": [
    "clf.best_params_"
   ]
  },
  {
   "cell_type": "markdown",
   "id": "4617c19b-2b11-42c1-8a2a-20045bb10585",
   "metadata": {},
   "source": [
    "## Baseline\n",
    "Mode prediction."
   ]
  },
  {
   "cell_type": "code",
   "execution_count": 161,
   "id": "bff17904-d54f-44ae-b32c-ac48dd9bc7b3",
   "metadata": {},
   "outputs": [
    {
     "data": {
      "text/plain": [
       "0    1384\n",
       "1    1314\n",
       "dtype: int64"
      ]
     },
     "execution_count": 161,
     "metadata": {},
     "output_type": "execute_result"
    }
   ],
   "source": [
    "pd.Series(y_train).value_counts()"
   ]
  },
  {
   "cell_type": "code",
   "execution_count": 169,
   "id": "0f2b876a-9bb5-4e26-86cc-0f04bd982c8f",
   "metadata": {},
   "outputs": [
    {
     "name": "stdout",
     "output_type": "stream",
     "text": [
      "              precision    recall  f1-score   support\n",
      "\n",
      "           0     0.5132    1.0000    0.6783      9003\n",
      "           1     0.0000    0.0000    0.0000      8541\n",
      "\n",
      "    accuracy                         0.5132     17544\n",
      "   macro avg     0.2566    0.5000    0.3391     17544\n",
      "weighted avg     0.2633    0.5132    0.3481     17544\n",
      "\n"
     ]
    },
    {
     "name": "stderr",
     "output_type": "stream",
     "text": [
      "/samsung-ssd/works/cp-master/pattern/course-projects/pattern-env/lib/python3.8/site-packages/sklearn/metrics/_classification.py:1318: UndefinedMetricWarning: Precision and F-score are ill-defined and being set to 0.0 in labels with no predicted samples. Use `zero_division` parameter to control this behavior.\n",
      "  _warn_prf(average, modifier, msg_start, len(result))\n",
      "/samsung-ssd/works/cp-master/pattern/course-projects/pattern-env/lib/python3.8/site-packages/sklearn/metrics/_classification.py:1318: UndefinedMetricWarning: Precision and F-score are ill-defined and being set to 0.0 in labels with no predicted samples. Use `zero_division` parameter to control this behavior.\n",
      "  _warn_prf(average, modifier, msg_start, len(result))\n",
      "/samsung-ssd/works/cp-master/pattern/course-projects/pattern-env/lib/python3.8/site-packages/sklearn/metrics/_classification.py:1318: UndefinedMetricWarning: Precision and F-score are ill-defined and being set to 0.0 in labels with no predicted samples. Use `zero_division` parameter to control this behavior.\n",
      "  _warn_prf(average, modifier, msg_start, len(result))\n"
     ]
    }
   ],
   "source": [
    "print(classification_report(y_val, np.zeros_like(y_val), digits=4))"
   ]
  },
  {
   "cell_type": "markdown",
   "id": "38ef2aaa-871f-4aaf-b6b3-39d49bf2cb89",
   "metadata": {},
   "source": [
    "## Evaluation"
   ]
  },
  {
   "cell_type": "code",
   "execution_count": 163,
   "id": "a7061348-d570-4b4a-aa7d-be7565ce9b38",
   "metadata": {},
   "outputs": [],
   "source": [
    "y_pred = clf.predict(x_val)"
   ]
  },
  {
   "cell_type": "code",
   "execution_count": 164,
   "id": "2f85cbc0-c88b-490a-b517-ca3dcd94c32c",
   "metadata": {},
   "outputs": [],
   "source": [
    "results = evaluate(clf, x_val, y_val)\n",
    "_ = results.pop(\"prediction\")"
   ]
  },
  {
   "cell_type": "code",
   "execution_count": 165,
   "id": "5a5ab48a-e525-44df-993f-6980c37a1e96",
   "metadata": {},
   "outputs": [
    {
     "data": {
      "text/plain": [
       "{'accuracy': {'overall': 0.9194026447788418, 'average': 0.9212182755613485},\n",
       " 'recall': {'micro': 0.9194026447788418, 'macro': 0.9212182755613485},\n",
       " 'precision': {'micro': 0.9194026447788418, 'macro': 0.9266382586451215},\n",
       " 'f1': {'micro': 0.9194026447788418, 'macro': 0.9192413709763951},\n",
       " 'confusion_matrix': {'none': [[7673, 1330], [84, 8457]],\n",
       "  'true': [[0.8522714650671999, 0.14772853493280017],\n",
       "   [0.009834913944502985, 0.990165086055497]],\n",
       "  'pred': [[0.9891710712904473, 0.13589455400020437],\n",
       "   [0.010828928709552663, 0.8641054459997957]]}}"
      ]
     },
     "execution_count": 165,
     "metadata": {},
     "output_type": "execute_result"
    }
   ],
   "source": [
    "results"
   ]
  },
  {
   "cell_type": "code",
   "execution_count": 166,
   "id": "02fe0aa1-03ea-457f-a9f1-71078761e7aa",
   "metadata": {},
   "outputs": [
    {
     "data": {
      "text/plain": [
       "<AxesSubplot:>"
      ]
     },
     "execution_count": 166,
     "metadata": {},
     "output_type": "execute_result"
    },
    {
     "data": {
      "image/png": "[encoded data removed]",
      "text/plain": [
       "<Figure size 432x288 with 2 Axes>"
      ]
     },
     "metadata": {
      "needs_background": "light"
     },
     "output_type": "display_data"
    }
   ],
   "source": [
    "sns.heatmap(results[\"confusion_matrix\"][\"true\"], annot=True)"
   ]
  },
  {
   "cell_type": "code",
   "execution_count": 167,
   "id": "ce936ff6-01a9-48b5-b648-6d18171e18ab",
   "metadata": {},
   "outputs": [],
   "source": [
    "submission = clf.predict(x_test)"
   ]
  },
  {
   "cell_type": "code",
   "execution_count": 168,
   "id": "d9872e1e-9564-418b-ad43-a838bf97c7c6",
   "metadata": {},
   "outputs": [],
   "source": [
    "pd.DataFrame(list(zip(test.index, submission)), columns=[\"id\", \"label\"]).set_index(\"id\").to_csv(\"notebooks/baseline.csv\")"
   ]
  },
  {
   "cell_type": "markdown",
   "id": "c4617dda-4553-462c-b645-af8961789aec",
   "metadata": {
    "tags": []
   },
   "source": [
    "## Summary"
   ]
  },
  {
   "cell_type": "code",
   "execution_count": null,
   "id": "046b84e1-10fa-497f-97e1-8fd906f16eba",
   "metadata": {},
   "outputs": [],
   "source": []
  }
 ],
 "metadata": {
  "kernelspec": {
   "display_name": "Python 3 (ipykernel)",
   "language": "python",
   "name": "python3"
  },
  "language_info": {
   "codemirror_mode": {
    "name": "ipython",
    "version": 3
   },
   "file_extension": ".py",
   "mimetype": "text/x-python",
   "name": "python",
   "nbconvert_exporter": "python",
   "pygments_lexer": "ipython3",
   "version": "3.8.12"
  }
 },
 "nbformat": 4,
 "nbformat_minor": 5
}
