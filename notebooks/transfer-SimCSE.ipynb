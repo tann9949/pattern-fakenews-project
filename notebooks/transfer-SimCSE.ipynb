{
 "cells": [
  {
   "cell_type": "code",
   "execution_count": 9,
   "id": "d9b3c994",
   "metadata": {},
   "outputs": [
    {
     "name": "stdout",
     "output_type": "stream",
     "text": [
      "/workspace\n"
     ]
    }
   ],
   "source": [
    "%cd /workspace\n",
    "from glob import glob\n",
    "\n",
    "import numpy as np\n",
    "import torch\n",
    "from datasets import load_metric\n",
    "from transformers import (AutoModelForSequenceClassification, \n",
    "                          AutoTokenizer, DataCollatorWithPadding, \n",
    "                          TrainingArguments, Trainer)\n",
    "\n",
    "from baseline.evaluate import calculate_score\n",
    "from baseline.tokenizer import tokenize\n",
    "from baseline.limesoda import LimeSodaDataset, read_limesoda\n",
    "\n",
    "LIMESODA_DIR = \"/workspace/dataset/LimeSoda\"\n",
    "DELIMITER = \"\"\n",
    "BATCH_SIZE = 24\n",
    "EPOCHS = 200\n",
    "LEARNING_RATE = 2e-6\n",
    "TRAIN_PERCENTAGE = 1."
   ]
  },
  {
   "cell_type": "code",
   "execution_count": 10,
   "id": "c653f2cf",
   "metadata": {},
   "outputs": [],
   "source": [
    "def compute_metrics(eval_pred):\n",
    "    logits, labels = eval_pred\n",
    "    predictions = np.argmax(logits, axis=-1)\n",
    "    return metric.compute(predictions=predictions, references=labels)"
   ]
  },
  {
   "cell_type": "code",
   "execution_count": 12,
   "id": "7aeaf47a",
   "metadata": {},
   "outputs": [
    {
     "name": "stderr",
     "output_type": "stream",
     "text": [
      "Didn't find file weights/raw/wangchanberta-simcse-raw-bs16-epoch1-lr0.0001/added_tokens.json. We won't load it.\n",
      "loading file weights/raw/wangchanberta-simcse-raw-bs16-epoch1-lr0.0001/sentencepiece.bpe.model\n",
      "loading file weights/raw/wangchanberta-simcse-raw-bs16-epoch1-lr0.0001/tokenizer.json\n",
      "loading file None\n",
      "loading file weights/raw/wangchanberta-simcse-raw-bs16-epoch1-lr0.0001/special_tokens_map.json\n",
      "loading file weights/raw/wangchanberta-simcse-raw-bs16-epoch1-lr0.0001/tokenizer_config.json\n"
     ]
    },
    {
     "name": "stdout",
     "output_type": "stream",
     "text": [
      ">>>>>>>>>>\n",
      "wangchanberta-simcse-raw-bs16-epoch1-lr0.0001\n",
      ">>>>>>>>>>\n",
      "Loading data...\n"
     ]
    },
    {
     "name": "stderr",
     "output_type": "stream",
     "text": [
      "100%|███████████████████████████████████████████████████████████████████████████████████████████████████████████████████████████████████████████████████████████████████████████████████████████████████| 2698/2698 [00:00<00:00, 5372.75it/s]\n"
     ]
    },
    {
     "name": "stdout",
     "output_type": "stream",
     "text": [
      "Loading data...\n"
     ]
    },
    {
     "name": "stderr",
     "output_type": "stream",
     "text": [
      "100%|█████████████████████████████████████████████████████████████████████████████████████████████████████████████████████████████████████████████████████████████████████████████████████████████████████| 300/300 [00:00<00:00, 5691.18it/s]\n"
     ]
    },
    {
     "name": "stdout",
     "output_type": "stream",
     "text": [
      "Loading data...\n"
     ]
    },
    {
     "name": "stderr",
     "output_type": "stream",
     "text": [
      "100%|███████████████████████████████████████████████████████████████████████████████████████████████████████████████████████████████████████████████████████████████████████████████████████████████████| 2765/2765 [00:00<00:00, 9293.96it/s]\n",
      "loading configuration file weights/raw/wangchanberta-simcse-raw-bs16-epoch1-lr0.0001/config.json\n",
      "Model config CamembertConfig {\n",
      "  \"_name_or_path\": \"weights/raw/wangchanberta-simcse-raw-bs16-epoch1-lr0.0001\",\n",
      "  \"architectures\": [\n",
      "    \"CamembertModel\"\n",
      "  ],\n",
      "  \"attention_probs_dropout_prob\": 0.1,\n",
      "  \"bos_token_id\": 0,\n",
      "  \"classifier_dropout\": null,\n",
      "  \"eos_token_id\": 2,\n",
      "  \"gradient_checkpointing\": false,\n",
      "  \"hidden_act\": \"gelu\",\n",
      "  \"hidden_dropout_prob\": 0.1,\n",
      "  \"hidden_size\": 768,\n",
      "  \"initializer_range\": 0.02,\n",
      "  \"intermediate_size\": 3072,\n",
      "  \"layer_norm_eps\": 1e-12,\n",
      "  \"max_position_embeddings\": 512,\n",
      "  \"model_type\": \"camembert\",\n",
      "  \"num_attention_head\": 12,\n",
      "  \"num_attention_heads\": 12,\n",
      "  \"num_hidden_layers\": 12,\n",
      "  \"pad_token_id\": 1,\n",
      "  \"position_embedding_type\": \"absolute\",\n",
      "  \"torch_dtype\": \"float32\",\n",
      "  \"transformers_version\": \"4.19.2\",\n",
      "  \"type_vocab_size\": 1,\n",
      "  \"use_cache\": true,\n",
      "  \"vocab_size\": 25005\n",
      "}\n",
      "\n",
      "loading weights file weights/raw/wangchanberta-simcse-raw-bs16-epoch1-lr0.0001/pytorch_model.bin\n",
      "Some weights of the model checkpoint at weights/raw/wangchanberta-simcse-raw-bs16-epoch1-lr0.0001 were not used when initializing CamembertForSequenceClassification: ['pooler.dense.weight', 'pooler.dense.bias']\n",
      "- This IS expected if you are initializing CamembertForSequenceClassification from the checkpoint of a model trained on another task or with another architecture (e.g. initializing a BertForSequenceClassification model from a BertForPreTraining model).\n",
      "- This IS NOT expected if you are initializing CamembertForSequenceClassification from the checkpoint of a model that you expect to be exactly identical (initializing a BertForSequenceClassification model from a BertForSequenceClassification model).\n",
      "Some weights of CamembertForSequenceClassification were not initialized from the model checkpoint at weights/raw/wangchanberta-simcse-raw-bs16-epoch1-lr0.0001 and are newly initialized: ['classifier.out_proj.weight', 'classifier.dense.weight', 'classifier.out_proj.bias', 'classifier.dense.bias']\n",
      "You should probably TRAIN this model on a down-stream task to be able to use it for predictions and inference.\n",
      "PyTorch: setting up devices\n",
      "The default value for the training argument `--report_to` will change in v5 (from all installed integrations to none). In v5, you will need to use `--report_to all` to get the same behavior as now. You should start updating your code and make this info disappear :-).\n",
      "***** Running training *****\n",
      "  Num examples = 2698\n",
      "  Num Epochs = 200\n",
      "  Instantaneous batch size per device = 24\n",
      "  Total train batch size (w. parallel, distributed & accumulation) = 48\n",
      "  Gradient Accumulation steps = 1\n",
      "  Total optimization steps = 11400\n",
      "/opt/conda/lib/python3.8/site-packages/torch/nn/parallel/_functions.py:68: UserWarning: Was asked to gather along dimension 0, but all input tensors were scalars; will instead unsqueeze and return a vector.\n",
      "  warnings.warn('Was asked to gather along dimension 0, but all '\n"
     ]
    },
    {
     "data": {
      "text/html": [
       "\n",
       "    <div>\n",
       "      \n",
       "      <progress value='149' max='11400' style='width:300px; height:20px; vertical-align: middle;'></progress>\n",
       "      [  149/11400 02:36 < 3:19:57, 0.94 it/s, Epoch 2.60/200]\n",
       "    </div>\n",
       "    <table border=\"1\" class=\"dataframe\">\n",
       "  <thead>\n",
       " <tr style=\"text-align: left;\">\n",
       "      <th>Step</th>\n",
       "      <th>Training Loss</th>\n",
       "    </tr>\n",
       "  </thead>\n",
       "  <tbody>\n",
       "  </tbody>\n",
       "</table><p>"
      ],
      "text/plain": [
       "<IPython.core.display.HTML object>"
      ]
     },
     "metadata": {},
     "output_type": "display_data"
    },
    {
     "name": "stderr",
     "output_type": "stream",
     "text": [
      "\n",
      "KeyboardInterrupt\n",
      "\n"
     ]
    }
   ],
   "source": [
    "SAVE_DIR = \"./results/raw-simcse/200epochs-100percent/\"\n",
    "\n",
    "models = sorted(glob(\"weights/raw/*\"))\n",
    "\n",
    "for model_name in models:\n",
    "    model_name = \n",
    "    print(\">\"*10)\n",
    "    print(model_name.split(\"/\")[-1])\n",
    "    print(\">\"*10)\n",
    "    \n",
    "    tokenizer = AutoTokenizer.from_pretrained(model_name)\n",
    "    train_dataset = LimeSodaDataset(f\"{LIMESODA_DIR}/../tempLimesoda/train_v1.jsonl\", tokenizer)\n",
    "    val_dataset = LimeSodaDataset(f\"{LIMESODA_DIR}/../tempLimesoda/val_v1.jsonl\", tokenizer)\n",
    "    test_dataset = LimeSodaDataset(f\"{LIMESODA_DIR}/../tempLimesoda/test_v1.jsonl\", tokenizer)\n",
    "    \n",
    "    data_collator = DataCollatorWithPadding(tokenizer=tokenizer)\n",
    "    model = AutoModelForSequenceClassification.from_pretrained(model_name, num_labels=2)\n",
    "\n",
    "    if torch.cuda.is_available():\n",
    "        model = model.cuda()\n",
    "        \n",
    "    metric = load_metric(\"accuracy\")\n",
    "\n",
    "    training_args = TrainingArguments(\n",
    "        output_dir=SAVE_DIR,\n",
    "        learning_rate=LEARNING_RATE,\n",
    "        per_device_train_batch_size=BATCH_SIZE,\n",
    "        per_device_eval_batch_size=16,\n",
    "        num_train_epochs=EPOCHS,\n",
    "        weight_decay=0.01,\n",
    "        save_steps=5000,\n",
    "    )\n",
    "\n",
    "    trainer = Trainer(\n",
    "        model=model,\n",
    "        args=training_args,\n",
    "        train_dataset=train_dataset,\n",
    "        eval_dataset=val_dataset,\n",
    "        tokenizer=tokenizer,\n",
    "        data_collator=data_collator,\n",
    "        compute_metrics=compute_metrics\n",
    "    )\n",
    "    \n",
    "    trainer.train()\n",
    "    model.save_pretrained(SAVE_DIR + \"final\")\n",
    "    \n",
    "    # evaluate\n",
    "    result = trainer.predict(val_dataset)\n",
    "    val_result = calculate_score(dataset[\"val\"][\"label\"].values, result.predictions.argmax(-1))\n",
    "    _ = val_result.pop(\"prediction\")\n",
    "    \n",
    "    result = trainer.predict(test_dataset)\n",
    "    test_result = calculate_score(dataset[\"test\"][\"label\"].values, result.predictions.argmax(-1))\n",
    "    _ = test_result.pop(\"prediction\")\n",
    "    \n",
    "    print(\"VALIDATION RESULT\")\n",
    "    print(val_result)\n",
    "    \n",
    "    print(\"TEST RESULT\")\n",
    "    print(test_result)\n",
    "    break"
   ]
  },
  {
   "cell_type": "code",
   "execution_count": null,
   "id": "ce3a9726",
   "metadata": {},
   "outputs": [],
   "source": []
  }
 ],
 "metadata": {
  "kernelspec": {
   "display_name": "Python 3 (ipykernel)",
   "language": "python",
   "name": "python3"
  },
  "language_info": {
   "codemirror_mode": {
    "name": "ipython",
    "version": 3
   },
   "file_extension": ".py",
   "mimetype": "text/x-python",
   "name": "python",
   "nbconvert_exporter": "python",
   "pygments_lexer": "ipython3",
   "version": "3.8.12"
  }
 },
 "nbformat": 4,
 "nbformat_minor": 5
}
