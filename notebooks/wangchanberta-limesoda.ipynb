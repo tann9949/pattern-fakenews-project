{
 "cells": [
  {
   "cell_type": "code",
   "execution_count": 86,
   "id": "0aeb2b7d",
   "metadata": {},
   "outputs": [
    {
     "name": "stdout",
     "output_type": "stream",
     "text": [
      "/workspace\n"
     ]
    },
    {
     "ename": "ImportError",
     "evalue": "cannot import name 'calculate_score' from 'baseline.evaluate' (/workspace/baseline/evaluate.py)",
     "output_type": "error",
     "traceback": [
      "\u001b[0;31m---------------------------------------------------------------------------\u001b[0m",
      "\u001b[0;31mImportError\u001b[0m                               Traceback (most recent call last)",
      "Input \u001b[0;32mIn [86]\u001b[0m, in \u001b[0;36m<module>\u001b[0;34m\u001b[0m\n\u001b[1;32m     19\u001b[0m \u001b[38;5;28;01mfrom\u001b[39;00m \u001b[38;5;21;01mbaseline\u001b[39;00m\u001b[38;5;21;01m.\u001b[39;00m\u001b[38;5;21;01mtokenizer\u001b[39;00m \u001b[38;5;28;01mimport\u001b[39;00m tokenize\n\u001b[1;32m     20\u001b[0m \u001b[38;5;28;01mfrom\u001b[39;00m \u001b[38;5;21;01mbaseline\u001b[39;00m\u001b[38;5;21;01m.\u001b[39;00m\u001b[38;5;21;01mmodel\u001b[39;00m \u001b[38;5;28;01mimport\u001b[39;00m NbSVC, NbLogisticRegression\n\u001b[0;32m---> 21\u001b[0m \u001b[38;5;28;01mfrom\u001b[39;00m \u001b[38;5;21;01mbaseline\u001b[39;00m\u001b[38;5;21;01m.\u001b[39;00m\u001b[38;5;21;01mevaluate\u001b[39;00m \u001b[38;5;28;01mimport\u001b[39;00m calculate_score\n\u001b[1;32m     23\u001b[0m \u001b[38;5;66;03m# LIMESODA_DIR = \"/samsung-4tb/cp-eng/pattern/course-projects/dataset/LimeSoda/\"\u001b[39;00m\n\u001b[1;32m     24\u001b[0m LIMESODA_DIR \u001b[38;5;241m=\u001b[39m \u001b[38;5;124m\"\u001b[39m\u001b[38;5;124m/workspace/dataset/LimeSoda\u001b[39m\u001b[38;5;124m\"\u001b[39m\n",
      "\u001b[0;31mImportError\u001b[0m: cannot import name 'calculate_score' from 'baseline.evaluate' (/workspace/baseline/evaluate.py)"
     ]
    }
   ],
   "source": [
    "# %cd /samsung-4tb/cp-eng/pattern/course-projects\n",
    "%cd /workspace/\n",
    "import json\n",
    "import re\n",
    "\n",
    "import numpy as np\n",
    "import pandas as pd\n",
    "import torch\n",
    "import seaborn as sns\n",
    "from sklearn.feature_extraction.text import TfidfVectorizer\n",
    "from sklearn.metrics import classification_report\n",
    "from sklearn.model_selection import GridSearchCV, train_test_split\n",
    "from sklearn.pipeline import Pipeline\n",
    "from transformers import (AutoModelForSequenceClassification, \n",
    "                          AutoTokenizer, DataCollatorWithPadding, \n",
    "                          TrainingArguments, Trainer)\n",
    "from tqdm.auto import tqdm\n",
    "\n",
    "from baseline.tokenizer import tokenize\n",
    "from baseline.model import NbSVC, NbLogisticRegression\n",
    "from baseline.evaluate import calculate_score\n",
    "\n",
    "# LIMESODA_DIR = \"/samsung-4tb/cp-eng/pattern/course-projects/dataset/LimeSoda/\"\n",
    "LIMESODA_DIR = \"/workspace/dataset/LimeSoda\"\n",
    "DELIMITER = \"\""
   ]
  },
  {
   "cell_type": "markdown",
   "id": "8dbc3a8d",
   "metadata": {},
   "source": [
    "## Load dataset"
   ]
  },
  {
   "cell_type": "code",
   "execution_count": 42,
   "id": "89478d28",
   "metadata": {},
   "outputs": [
    {
     "data": {
      "application/vnd.jupyter.widget-view+json": {
       "model_id": "af1890e0bc174c9aa1732ecc3faaf5ca",
       "version_major": 2,
       "version_minor": 0
      },
      "text/plain": [
       "  0%|          | 0/2698 [00:00<?, ?it/s]"
      ]
     },
     "metadata": {},
     "output_type": "display_data"
    },
    {
     "data": {
      "application/vnd.jupyter.widget-view+json": {
       "model_id": "5c4cdde1a9914e1eaf9a20b0a79bbf71",
       "version_major": 2,
       "version_minor": 0
      },
      "text/plain": [
       "  0%|          | 0/300 [00:00<?, ?it/s]"
      ]
     },
     "metadata": {},
     "output_type": "display_data"
    },
    {
     "data": {
      "application/vnd.jupyter.widget-view+json": {
       "model_id": "340d715da0934abfbf66ec37248bcfbb",
       "version_major": 2,
       "version_minor": 0
      },
      "text/plain": [
       "  0%|          | 0/2765 [00:00<?, ?it/s]"
      ]
     },
     "metadata": {},
     "output_type": "display_data"
    }
   ],
   "source": [
    "def read_limesoda(delimiter=\" \"):\n",
    "    train, val, test = [], [], []\n",
    "    mapper = {\"Fake News\": 0, \"Fact News\": 1}\n",
    "    \n",
    "    # train\n",
    "    with open(f\"{LIMESODA_DIR}//../tempLimesoda/train_v1.jsonl\", \"r\") as f:\n",
    "        for line in tqdm(f.readlines()):\n",
    "            line = json.loads(line)\n",
    "            line[\"label\"] = mapper[line[\"Document Tag\"]]\n",
    "            line[\"text\"] = delimiter.join([t for t in line[\"Text\"] if len(t.strip()) > 0])\n",
    "            line.pop(\"Document Tag\")\n",
    "            line.pop(\"Text\")\n",
    "            train.append(line)\n",
    "           \n",
    "    # val\n",
    "    with open(f\"{LIMESODA_DIR}//../tempLimesoda/val_v1.jsonl\", \"r\") as f:\n",
    "        for line in tqdm(f.readlines()):\n",
    "            line = json.loads(line)\n",
    "            line[\"label\"] = mapper[line[\"Document Tag\"]]\n",
    "            line[\"text\"] = delimiter.join([t for t in line[\"Text\"] if len(t) > 0])\n",
    "            line.pop(\"Document Tag\")\n",
    "            line.pop(\"Text\")\n",
    "            val.append(line)\n",
    "            \n",
    "    with open(f\"{LIMESODA_DIR}//../tempLimesoda/test_v1.jsonl\", \"r\") as f:\n",
    "        for line in tqdm(f.readlines()):\n",
    "            line = json.loads(line)\n",
    "            if line[\"Document Tag\"] not in mapper.keys():\n",
    "                continue\n",
    "            line[\"label\"] = mapper[line[\"Document Tag\"]]\n",
    "            line[\"text\"] = delimiter.join([t for t in line[\"Text\"] if len(t) > 0])\n",
    "            line.pop(\"Document Tag\")\n",
    "            line.pop(\"Text\")\n",
    "            test.append(line)\n",
    "\n",
    "    return {\n",
    "        \"train\": pd.DataFrame(train),\n",
    "        \"val\": pd.DataFrame(val),\n",
    "        \"test\": pd.DataFrame(test)\n",
    "    }\n",
    "            \n",
    "dataset = read_limesoda(delimiter=DELIMITER)"
   ]
  },
  {
   "cell_type": "markdown",
   "id": "fa617e66",
   "metadata": {},
   "source": [
    "\n",
    "## Prepare Dataset"
   ]
  },
  {
   "cell_type": "code",
   "execution_count": 43,
   "id": "212083a0",
   "metadata": {},
   "outputs": [
    {
     "name": "stderr",
     "output_type": "stream",
     "text": [
      "loading configuration file https://huggingface.co/airesearch/wangchanberta-base-att-spm-uncased/resolve/main/config.json from cache at /root/.cache/huggingface/transformers/616a9e2dfc52e9d019b75d219ed800a27158ed299bd4fad91363110fe93dfce1.27c4f6581fbedf3d12e9fae96d4fbb8bc3064cd88ae545414e7cffc7c5bbc52f\n",
      "Model config CamembertConfig {\n",
      "  \"_name_or_path\": \"airesearch/wangchanberta-base-att-spm-uncased\",\n",
      "  \"architectures\": [\n",
      "    \"RobertaForMaskedLM\"\n",
      "  ],\n",
      "  \"attention_probs_dropout_prob\": 0.1,\n",
      "  \"bos_token_id\": 0,\n",
      "  \"classifier_dropout\": null,\n",
      "  \"eos_token_id\": 2,\n",
      "  \"gradient_checkpointing\": false,\n",
      "  \"hidden_act\": \"gelu\",\n",
      "  \"hidden_dropout_prob\": 0.1,\n",
      "  \"hidden_size\": 768,\n",
      "  \"initializer_range\": 0.02,\n",
      "  \"intermediate_size\": 3072,\n",
      "  \"layer_norm_eps\": 1e-12,\n",
      "  \"max_position_embeddings\": 512,\n",
      "  \"model_type\": \"camembert\",\n",
      "  \"num_attention_head\": 12,\n",
      "  \"num_attention_heads\": 12,\n",
      "  \"num_hidden_layers\": 12,\n",
      "  \"pad_token_id\": 1,\n",
      "  \"position_embedding_type\": \"absolute\",\n",
      "  \"transformers_version\": \"4.19.2\",\n",
      "  \"type_vocab_size\": 1,\n",
      "  \"use_cache\": true,\n",
      "  \"vocab_size\": 25005\n",
      "}\n",
      "\n",
      "loading file https://huggingface.co/airesearch/wangchanberta-base-att-spm-uncased/resolve/main/sentencepiece.bpe.model from cache at /root/.cache/huggingface/transformers/723940ae01a5606e15164abf96f0ab7c04305fcd51888f3ef83d89950f5d6bfa.0083544422c6efb7b34819bf9daacd1963043dc7f6ac978929e1c28857ac8252\n",
      "loading file https://huggingface.co/airesearch/wangchanberta-base-att-spm-uncased/resolve/main/tokenizer.json from cache at None\n",
      "loading file https://huggingface.co/airesearch/wangchanberta-base-att-spm-uncased/resolve/main/added_tokens.json from cache at None\n",
      "loading file https://huggingface.co/airesearch/wangchanberta-base-att-spm-uncased/resolve/main/special_tokens_map.json from cache at None\n",
      "loading file https://huggingface.co/airesearch/wangchanberta-base-att-spm-uncased/resolve/main/tokenizer_config.json from cache at /root/.cache/huggingface/transformers/be4bffb4d63c772bad4c531d0cdefc41fe7d056d1954177e9bc7e8975c73a163.13700dc3e64ff4e23d6d8686cf822960ccbe7834db8199e4452261ff8a2df1f4\n",
      "loading configuration file https://huggingface.co/airesearch/wangchanberta-base-att-spm-uncased/resolve/main/config.json from cache at /root/.cache/huggingface/transformers/616a9e2dfc52e9d019b75d219ed800a27158ed299bd4fad91363110fe93dfce1.27c4f6581fbedf3d12e9fae96d4fbb8bc3064cd88ae545414e7cffc7c5bbc52f\n",
      "Model config CamembertConfig {\n",
      "  \"_name_or_path\": \"airesearch/wangchanberta-base-att-spm-uncased\",\n",
      "  \"architectures\": [\n",
      "    \"RobertaForMaskedLM\"\n",
      "  ],\n",
      "  \"attention_probs_dropout_prob\": 0.1,\n",
      "  \"bos_token_id\": 0,\n",
      "  \"classifier_dropout\": null,\n",
      "  \"eos_token_id\": 2,\n",
      "  \"gradient_checkpointing\": false,\n",
      "  \"hidden_act\": \"gelu\",\n",
      "  \"hidden_dropout_prob\": 0.1,\n",
      "  \"hidden_size\": 768,\n",
      "  \"initializer_range\": 0.02,\n",
      "  \"intermediate_size\": 3072,\n",
      "  \"layer_norm_eps\": 1e-12,\n",
      "  \"max_position_embeddings\": 512,\n",
      "  \"model_type\": \"camembert\",\n",
      "  \"num_attention_head\": 12,\n",
      "  \"num_attention_heads\": 12,\n",
      "  \"num_hidden_layers\": 12,\n",
      "  \"pad_token_id\": 1,\n",
      "  \"position_embedding_type\": \"absolute\",\n",
      "  \"transformers_version\": \"4.19.2\",\n",
      "  \"type_vocab_size\": 1,\n",
      "  \"use_cache\": true,\n",
      "  \"vocab_size\": 25005\n",
      "}\n",
      "\n",
      "loading configuration file https://huggingface.co/airesearch/wangchanberta-base-att-spm-uncased/resolve/main/config.json from cache at /root/.cache/huggingface/transformers/616a9e2dfc52e9d019b75d219ed800a27158ed299bd4fad91363110fe93dfce1.27c4f6581fbedf3d12e9fae96d4fbb8bc3064cd88ae545414e7cffc7c5bbc52f\n",
      "Model config CamembertConfig {\n",
      "  \"_name_or_path\": \"airesearch/wangchanberta-base-att-spm-uncased\",\n",
      "  \"architectures\": [\n",
      "    \"RobertaForMaskedLM\"\n",
      "  ],\n",
      "  \"attention_probs_dropout_prob\": 0.1,\n",
      "  \"bos_token_id\": 0,\n",
      "  \"classifier_dropout\": null,\n",
      "  \"eos_token_id\": 2,\n",
      "  \"gradient_checkpointing\": false,\n",
      "  \"hidden_act\": \"gelu\",\n",
      "  \"hidden_dropout_prob\": 0.1,\n",
      "  \"hidden_size\": 768,\n",
      "  \"initializer_range\": 0.02,\n",
      "  \"intermediate_size\": 3072,\n",
      "  \"layer_norm_eps\": 1e-12,\n",
      "  \"max_position_embeddings\": 512,\n",
      "  \"model_type\": \"camembert\",\n",
      "  \"num_attention_head\": 12,\n",
      "  \"num_attention_heads\": 12,\n",
      "  \"num_hidden_layers\": 12,\n",
      "  \"pad_token_id\": 1,\n",
      "  \"position_embedding_type\": \"absolute\",\n",
      "  \"transformers_version\": \"4.19.2\",\n",
      "  \"type_vocab_size\": 1,\n",
      "  \"use_cache\": true,\n",
      "  \"vocab_size\": 25005\n",
      "}\n",
      "\n"
     ]
    }
   ],
   "source": [
    "model_name = 'airesearch/wangchanberta-base-att-spm-uncased'\n",
    "\n",
    "tokenizer = AutoTokenizer.from_pretrained(model_name)"
   ]
  },
  {
   "cell_type": "code",
   "execution_count": 44,
   "id": "2fe824f0",
   "metadata": {},
   "outputs": [],
   "source": [
    "class LimeSodaDataset(torch.utils.data.Dataset):\n",
    "    def __init__(self, label_path, tokenizer, max_length=416, delimiter=\" \"):  # max wangchan 416 subwords\n",
    "        self.mapper = {\"Fake News\": 0, \"Fact News\": 1}\n",
    "        self.device = \"cuda\" if torch.cuda.is_available() else \"cpu\"\n",
    "        self.tokenizer = tokenizer\n",
    "        self.label_path = label_path\n",
    "        self.delimiter = delimiter\n",
    "        self.max_length = max_length\n",
    "        self.load_dataframe()\n",
    "        \n",
    "    def load_dataframe(self):\n",
    "        print(\"Loading data...\")\n",
    "        data = []\n",
    "        with open(self.label_path, \"r\") as f:\n",
    "            for line in tqdm(f.readlines()):\n",
    "                line = json.loads(line)\n",
    "                if line[\"Document Tag\"] not in self.mapper.keys():\n",
    "                    continue\n",
    "                line[\"label\"] = self.mapper[line[\"Document Tag\"]]\n",
    "                line[\"text\"] = self.delimiter.join([t for t in line[\"Text\"] if len(t.strip()) > 0])\n",
    "                line.pop(\"Document Tag\")\n",
    "                line.pop(\"Text\")\n",
    "                data.append(line)\n",
    "        self.data = pd.DataFrame(data)\n",
    "        \n",
    "    def __len__(self):\n",
    "        return len(self.data)\n",
    "    \n",
    "    def __getitem__(self, idx):\n",
    "        item = self.data.iloc[idx]\n",
    "        text = item[\"text\"]\n",
    "        label = item[\"label\"]\n",
    "        feature = self.tokenizer(text, padding=\"max_length\", max_length=self.max_length, truncation=True)\n",
    "        feature = {k: torch.tensor(v).to(self.device) for k, v in feature.items()}\n",
    "        feature[\"labels\"] = torch.tensor(label).to(self.device)\n",
    "        return feature"
   ]
  },
  {
   "cell_type": "code",
   "execution_count": 45,
   "id": "4cc34ad3",
   "metadata": {},
   "outputs": [
    {
     "name": "stdout",
     "output_type": "stream",
     "text": [
      "Loading data...\n"
     ]
    },
    {
     "data": {
      "application/vnd.jupyter.widget-view+json": {
       "model_id": "adb0992a3f7a47b8a8fffacc3c53d624",
       "version_major": 2,
       "version_minor": 0
      },
      "text/plain": [
       "  0%|          | 0/2698 [00:00<?, ?it/s]"
      ]
     },
     "metadata": {},
     "output_type": "display_data"
    },
    {
     "name": "stdout",
     "output_type": "stream",
     "text": [
      "Loading data...\n"
     ]
    },
    {
     "data": {
      "application/vnd.jupyter.widget-view+json": {
       "model_id": "920f9a2ab58443169c6066cfcf3e6fd8",
       "version_major": 2,
       "version_minor": 0
      },
      "text/plain": [
       "  0%|          | 0/300 [00:00<?, ?it/s]"
      ]
     },
     "metadata": {},
     "output_type": "display_data"
    },
    {
     "name": "stdout",
     "output_type": "stream",
     "text": [
      "Loading data...\n"
     ]
    },
    {
     "data": {
      "application/vnd.jupyter.widget-view+json": {
       "model_id": "e74a3f97865b4c218783eb33a3696300",
       "version_major": 2,
       "version_minor": 0
      },
      "text/plain": [
       "  0%|          | 0/2765 [00:00<?, ?it/s]"
      ]
     },
     "metadata": {},
     "output_type": "display_data"
    }
   ],
   "source": [
    "train_dataset = LimeSodaDataset(f\"{LIMESODA_DIR}/../tempLimesoda/train_v1.jsonl\", tokenizer)\n",
    "val_dataset = LimeSodaDataset(f\"{LIMESODA_DIR}/../tempLimesoda/val_v1.jsonl\", tokenizer)\n",
    "test_dataset = LimeSodaDataset(f\"{LIMESODA_DIR}/../tempLimesoda/test_v1.jsonl\", tokenizer)"
   ]
  },
  {
   "cell_type": "markdown",
   "id": "89feef01",
   "metadata": {},
   "source": [
    "## Prepare WangchanBERTa"
   ]
  },
  {
   "cell_type": "code",
   "execution_count": 11,
   "id": "7e171280",
   "metadata": {},
   "outputs": [
    {
     "name": "stderr",
     "output_type": "stream",
     "text": [
      "Some weights of the model checkpoint at airesearch/wangchanberta-base-att-spm-uncased were not used when initializing CamembertForSequenceClassification: ['lm_head.layer_norm.weight', 'lm_head.dense.weight', 'lm_head.decoder.weight', 'lm_head.decoder.bias', 'lm_head.dense.bias', 'lm_head.bias', 'roberta.pooler.dense.bias', 'roberta.pooler.dense.weight', 'lm_head.layer_norm.bias']\n",
      "- This IS expected if you are initializing CamembertForSequenceClassification from the checkpoint of a model trained on another task or with another architecture (e.g. initializing a BertForSequenceClassification model from a BertForPreTraining model).\n",
      "- This IS NOT expected if you are initializing CamembertForSequenceClassification from the checkpoint of a model that you expect to be exactly identical (initializing a BertForSequenceClassification model from a BertForSequenceClassification model).\n",
      "Some weights of CamembertForSequenceClassification were not initialized from the model checkpoint at airesearch/wangchanberta-base-att-spm-uncased and are newly initialized: ['classifier.out_proj.bias', 'classifier.dense.bias', 'classifier.out_proj.weight', 'classifier.dense.weight']\n",
      "You should probably TRAIN this model on a down-stream task to be able to use it for predictions and inference.\n"
     ]
    }
   ],
   "source": [
    "data_collator = DataCollatorWithPadding(tokenizer=tokenizer)\n",
    "model = AutoModelForSequenceClassification.from_pretrained(model_name, num_labels=2)\n",
    "\n",
    "if torch.cuda.is_available():\n",
    "    model = model.cuda()"
   ]
  },
  {
   "cell_type": "code",
   "execution_count": 14,
   "id": "82ba9be2",
   "metadata": {},
   "outputs": [
    {
     "name": "stderr",
     "output_type": "stream",
     "text": [
      "PyTorch: setting up devices\n",
      "The default value for the training argument `--report_to` will change in v5 (from all installed integrations to none). In v5, you will need to use `--report_to all` to get the same behavior as now. You should start updating your code and make this info disappear :-).\n"
     ]
    }
   ],
   "source": [
    "from datasets import load_metric\n",
    "\n",
    "\n",
    "metric = load_metric(\"accuracy\")\n",
    "\n",
    "def compute_metrics(eval_pred):\n",
    "    logits, labels = eval_pred\n",
    "    predictions = np.argmax(logits, axis=-1)\n",
    "    return metric.compute(predictions=predictions, references=labels)\n",
    "\n",
    "training_args = TrainingArguments(\n",
    "    output_dir=\"./results/wangchanberta\",\n",
    "    learning_rate=2e-6,\n",
    "    per_device_train_batch_size=24,\n",
    "    per_device_eval_batch_size=16,\n",
    "    num_train_epochs=20,\n",
    "    weight_decay=0.01,\n",
    ")\n",
    "\n",
    "trainer = Trainer(\n",
    "    model=model,\n",
    "    args=training_args,\n",
    "    train_dataset=train_dataset,\n",
    "    eval_dataset=val_dataset,\n",
    "    tokenizer=tokenizer,\n",
    "    data_collator=data_collator,\n",
    "    compute_metrics=compute_metrics\n",
    ")"
   ]
  },
  {
   "cell_type": "code",
   "execution_count": 15,
   "id": "174d515e",
   "metadata": {},
   "outputs": [
    {
     "name": "stderr",
     "output_type": "stream",
     "text": [
      "***** Running training *****\n",
      "  Num examples = 2698\n",
      "  Num Epochs = 20\n",
      "  Instantaneous batch size per device = 24\n",
      "  Total train batch size (w. parallel, distributed & accumulation) = 48\n",
      "  Gradient Accumulation steps = 1\n",
      "  Total optimization steps = 1140\n"
     ]
    },
    {
     "data": {
      "text/html": [
       "\n",
       "    <div>\n",
       "      \n",
       "      <progress value='1140' max='1140' style='width:300px; height:20px; vertical-align: middle;'></progress>\n",
       "      [1140/1140 20:00, Epoch 20/20]\n",
       "    </div>\n",
       "    <table border=\"1\" class=\"dataframe\">\n",
       "  <thead>\n",
       " <tr style=\"text-align: left;\">\n",
       "      <th>Step</th>\n",
       "      <th>Training Loss</th>\n",
       "    </tr>\n",
       "  </thead>\n",
       "  <tbody>\n",
       "    <tr>\n",
       "      <td>500</td>\n",
       "      <td>0.375000</td>\n",
       "    </tr>\n",
       "    <tr>\n",
       "      <td>1000</td>\n",
       "      <td>0.319000</td>\n",
       "    </tr>\n",
       "  </tbody>\n",
       "</table><p>"
      ],
      "text/plain": [
       "<IPython.core.display.HTML object>"
      ]
     },
     "metadata": {},
     "output_type": "display_data"
    },
    {
     "name": "stderr",
     "output_type": "stream",
     "text": [
      "Saving model checkpoint to ./results/wangchanberta/checkpoint-500\n",
      "Configuration saved in ./results/wangchanberta/checkpoint-500/config.json\n",
      "Model weights saved in ./results/wangchanberta/checkpoint-500/pytorch_model.bin\n",
      "tokenizer config file saved in ./results/wangchanberta/checkpoint-500/tokenizer_config.json\n",
      "Special tokens file saved in ./results/wangchanberta/checkpoint-500/special_tokens_map.json\n",
      "/opt/conda/lib/python3.8/site-packages/torch/nn/parallel/_functions.py:68: UserWarning: Was asked to gather along dimension 0, but all input tensors were scalars; will instead unsqueeze and return a vector.\n",
      "  warnings.warn('Was asked to gather along dimension 0, but all '\n",
      "Saving model checkpoint to ./results/wangchanberta/checkpoint-1000\n",
      "Configuration saved in ./results/wangchanberta/checkpoint-1000/config.json\n",
      "Model weights saved in ./results/wangchanberta/checkpoint-1000/pytorch_model.bin\n",
      "tokenizer config file saved in ./results/wangchanberta/checkpoint-1000/tokenizer_config.json\n",
      "Special tokens file saved in ./results/wangchanberta/checkpoint-1000/special_tokens_map.json\n",
      "/opt/conda/lib/python3.8/site-packages/torch/nn/parallel/_functions.py:68: UserWarning: Was asked to gather along dimension 0, but all input tensors were scalars; will instead unsqueeze and return a vector.\n",
      "  warnings.warn('Was asked to gather along dimension 0, but all '\n",
      "\n",
      "\n",
      "Training completed. Do not forget to share your model on huggingface.co/models =)\n",
      "\n",
      "\n"
     ]
    },
    {
     "data": {
      "text/plain": [
       "TrainOutput(global_step=1140, training_loss=0.3415559266742907, metrics={'train_runtime': 1201.2585, 'train_samples_per_second': 44.92, 'train_steps_per_second': 0.949, 'total_flos': 1.15354464446208e+16, 'train_loss': 0.3415559266742907, 'epoch': 20.0})"
      ]
     },
     "execution_count": 15,
     "metadata": {},
     "output_type": "execute_result"
    }
   ],
   "source": [
    "trainer.train()"
   ]
  },
  {
   "cell_type": "code",
   "execution_count": 102,
   "id": "0aed0d1c",
   "metadata": {},
   "outputs": [
    {
     "name": "stderr",
     "output_type": "stream",
     "text": [
      "Configuration saved in results/wangchanberta/final/config.json\n",
      "Model weights saved in results/wangchanberta/final/pytorch_model.bin\n"
     ]
    }
   ],
   "source": [
    "model.save_pretrained(\"results/wangchanberta/final\")"
   ]
  },
  {
   "cell_type": "markdown",
   "id": "d6634972",
   "metadata": {},
   "source": [
    "## Evaluate"
   ]
  },
  {
   "cell_type": "code",
   "execution_count": 88,
   "id": "b8112716",
   "metadata": {},
   "outputs": [],
   "source": [
    "from sklearn.metrics import (accuracy_score, confusion_matrix, f1_score,\n",
    "                             precision_score, recall_score)\n",
    "\n",
    "def calculate_score(y, y_pred):\n",
    "    precision_micro = precision_score(y, y_pred, average='micro')\n",
    "    precision_macro = precision_score(y, y_pred, average='macro')\n",
    "\n",
    "    recall_micro = recall_score(y, y_pred, average='micro')\n",
    "    recall_macro = recall_score(y, y_pred, average='macro')\n",
    "\n",
    "    f1_micro = f1_score(y, y_pred, average='micro')\n",
    "    f1_macro = f1_score(y, y_pred, average='macro')\n",
    "\n",
    "    conf_matrix = confusion_matrix(y, y_pred, normalize=None)\n",
    "    norm_true_cm = np.nan_to_num(\n",
    "        confusion_matrix(y, y_pred, normalize=\"true\"), 0.)\n",
    "    norm_pred_cm = np.nan_to_num(\n",
    "        confusion_matrix(y, y_pred, normalize=\"pred\"), 0.)\n",
    "\n",
    "    overall_accuracy = accuracy_score(y, y_pred)\n",
    "    average_accuracy = np.diag(norm_true_cm).mean()\n",
    "    return {\n",
    "        \"prediction\": y_pred.tolist(),\n",
    "        \"accuracy\": {\"overall\": overall_accuracy, \"average\": average_accuracy},\n",
    "        \"recall\": {\"micro\": recall_micro, \"macro\": recall_macro},\n",
    "        \"precision\": {\"micro\": precision_micro, \"macro\": precision_macro},\n",
    "        \"f1\": {\"micro\": f1_micro, \"macro\": f1_macro},\n",
    "        \"confusion_matrix\": {\n",
    "            \"none\": conf_matrix.tolist(),\n",
    "            \"true\": norm_true_cm.tolist(),\n",
    "            \"pred\": norm_pred_cm.tolist()\n",
    "        }\n",
    "    }"
   ]
  },
  {
   "cell_type": "code",
   "execution_count": 16,
   "id": "81f15428",
   "metadata": {},
   "outputs": [
    {
     "name": "stderr",
     "output_type": "stream",
     "text": [
      "***** Running Evaluation *****\n",
      "  Num examples = 300\n",
      "  Batch size = 32\n"
     ]
    },
    {
     "data": {
      "text/html": [
       "\n",
       "    <div>\n",
       "      \n",
       "      <progress value='58' max='10' style='width:300px; height:20px; vertical-align: middle;'></progress>\n",
       "      [10/10 1:59:22]\n",
       "    </div>\n",
       "    "
      ],
      "text/plain": [
       "<IPython.core.display.HTML object>"
      ]
     },
     "metadata": {},
     "output_type": "display_data"
    },
    {
     "data": {
      "text/plain": [
       "{'eval_loss': 0.33064138889312744,\n",
       " 'eval_accuracy': 0.8466666666666667,\n",
       " 'eval_runtime': 3.3073,\n",
       " 'eval_samples_per_second': 90.708,\n",
       " 'eval_steps_per_second': 3.024,\n",
       " 'epoch': 20.0}"
      ]
     },
     "execution_count": 16,
     "metadata": {},
     "output_type": "execute_result"
    }
   ],
   "source": [
    "trainer.evaluate()"
   ]
  },
  {
   "cell_type": "code",
   "execution_count": 70,
   "id": "48f18d47",
   "metadata": {},
   "outputs": [
    {
     "name": "stderr",
     "output_type": "stream",
     "text": [
      "***** Running Prediction *****\n",
      "  Num examples = 300\n",
      "  Batch size = 32\n",
      "/opt/conda/lib/python3.8/site-packages/torch/nn/parallel/_functions.py:68: UserWarning: Was asked to gather along dimension 0, but all input tensors were scalars; will instead unsqueeze and return a vector.\n",
      "  warnings.warn('Was asked to gather along dimension 0, but all '\n"
     ]
    }
   ],
   "source": [
    "result = trainer.predict(val_dataset)\n",
    "val_result = calculate_score(dataset[\"val\"][\"label\"].values, result.predictions.argmax(-1))\n",
    "_ = val_result.pop(\"prediction\")"
   ]
  },
  {
   "cell_type": "code",
   "execution_count": 96,
   "id": "d0d73aa0",
   "metadata": {},
   "outputs": [
    {
     "data": {
      "text/plain": [
       "{'accuracy': {'overall': 0.8466666666666667, 'average': 0.846728307254623},\n",
       " 'recall': {'micro': 0.8466666666666667, 'macro': 0.846728307254623},\n",
       " 'precision': {'micro': 0.8466666666666667, 'macro': 0.8466666666666667},\n",
       " 'f1': {'micro': 0.8466666666666667, 'macro': 0.8466598515489577},\n",
       " 'confusion_matrix': {'none': [[126, 22], [24, 128]],\n",
       "  'true': [[0.8513513513513513, 0.14864864864864866],\n",
       "   [0.15789473684210525, 0.8421052631578947]],\n",
       "  'pred': [[0.84, 0.14666666666666667], [0.16, 0.8533333333333334]]}}"
      ]
     },
     "execution_count": 96,
     "metadata": {},
     "output_type": "execute_result"
    }
   ],
   "source": [
    "val_result"
   ]
  },
  {
   "cell_type": "code",
   "execution_count": 98,
   "id": "95b86b25",
   "metadata": {},
   "outputs": [
    {
     "name": "stderr",
     "output_type": "stream",
     "text": [
      "***** Running Prediction *****\n",
      "  Num examples = 438\n",
      "  Batch size = 32\n",
      "/opt/conda/lib/python3.8/site-packages/torch/nn/parallel/_functions.py:68: UserWarning: Was asked to gather along dimension 0, but all input tensors were scalars; will instead unsqueeze and return a vector.\n",
      "  warnings.warn('Was asked to gather along dimension 0, but all '\n"
     ]
    }
   ],
   "source": [
    "result = trainer.predict(test_dataset)\n",
    "test_result = calculate_score(dataset[\"test\"][\"label\"].values, result.predictions.argmax(-1))\n",
    "_ = test_result.pop(\"prediction\")"
   ]
  },
  {
   "cell_type": "code",
   "execution_count": 99,
   "id": "a7402f22",
   "metadata": {},
   "outputs": [
    {
     "data": {
      "text/plain": [
       "{'accuracy': {'overall': 0.815068493150685, 'average': 0.7886028172811215},\n",
       " 'recall': {'micro': 0.815068493150685, 'macro': 0.7886028172811215},\n",
       " 'precision': {'micro': 0.815068493150685, 'macro': 0.6266863905325444},\n",
       " 'f1': {'micro': 0.815068493150685, 'macro': 0.6495757731398714},\n",
       " 'confusion_matrix': {'none': [[329, 72], [9, 28]],\n",
       "  'true': [[0.8204488778054863, 0.17955112219451372],\n",
       "   [0.24324324324324326, 0.7567567567567568]],\n",
       "  'pred': [[0.9733727810650887, 0.72], [0.026627218934911243, 0.28]]}}"
      ]
     },
     "execution_count": 99,
     "metadata": {},
     "output_type": "execute_result"
    }
   ],
   "source": [
    "test_result"
   ]
  },
  {
   "cell_type": "code",
   "execution_count": null,
   "id": "108337d0",
   "metadata": {},
   "outputs": [],
   "source": []
  }
 ],
 "metadata": {
  "kernelspec": {
   "display_name": "Python 3 (ipykernel)",
   "language": "python",
   "name": "python3"
  },
  "language_info": {
   "codemirror_mode": {
    "name": "ipython",
    "version": 3
   },
   "file_extension": ".py",
   "mimetype": "text/x-python",
   "name": "python",
   "nbconvert_exporter": "python",
   "pygments_lexer": "ipython3",
   "version": "3.8.12"
  }
 },
 "nbformat": 4,
 "nbformat_minor": 5
}
