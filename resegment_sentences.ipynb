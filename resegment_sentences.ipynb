{
  "nbformat": 4,
  "nbformat_minor": 0,
  "metadata": {
    "colab": {
      "name": "Resegment sentences.ipynb",
      "provenance": [],
      "collapsed_sections": [],
      "toc_visible": true
    },
    "kernelspec": {
      "name": "python3",
      "display_name": "Python 3"
    },
    "language_info": {
      "name": "python"
    }
  },
  "cells": [
    {
      "cell_type": "code",
      "source": [
        "from google.colab import drive\n",
        "drive.mount('/content/drive')"
      ],
      "metadata": {
        "colab": {
          "base_uri": "https://localhost:8080/"
        },
        "id": "Aw9MrVM5kpgp",
        "outputId": "f054c070-82c5-4b7a-f8b5-d12f23a75684"
      },
      "execution_count": null,
      "outputs": [
        {
          "output_type": "stream",
          "name": "stdout",
          "text": [
            "Mounted at /content/drive\n"
          ]
        }
      ]
    },
    {
      "cell_type": "code",
      "source": [
        "!pip install pythainlp\n",
        "!pip install python-crfsuite"
      ],
      "metadata": {
        "colab": {
          "base_uri": "https://localhost:8080/"
        },
        "id": "4PAoDV7qtTM8",
        "outputId": "2e268155-6367-4982-c8c7-09492b2053af"
      },
      "execution_count": null,
      "outputs": [
        {
          "output_type": "stream",
          "name": "stdout",
          "text": [
            "Collecting pythainlp\n",
            "  Downloading pythainlp-3.0.8-py3-none-any.whl (11.5 MB)\n",
            "\u001b[K     |████████████████████████████████| 11.5 MB 4.4 MB/s \n",
            "\u001b[?25hCollecting tinydb>=3.0\n",
            "  Downloading tinydb-4.7.0-py3-none-any.whl (24 kB)\n",
            "Requirement already satisfied: requests>=2.22.0 in /usr/local/lib/python3.7/dist-packages (from pythainlp) (2.23.0)\n",
            "Requirement already satisfied: urllib3!=1.25.0,!=1.25.1,<1.26,>=1.21.1 in /usr/local/lib/python3.7/dist-packages (from requests>=2.22.0->pythainlp) (1.24.3)\n",
            "Requirement already satisfied: certifi>=2017.4.17 in /usr/local/lib/python3.7/dist-packages (from requests>=2.22.0->pythainlp) (2021.10.8)\n",
            "Requirement already satisfied: idna<3,>=2.5 in /usr/local/lib/python3.7/dist-packages (from requests>=2.22.0->pythainlp) (2.10)\n",
            "Requirement already satisfied: chardet<4,>=3.0.2 in /usr/local/lib/python3.7/dist-packages (from requests>=2.22.0->pythainlp) (3.0.4)\n",
            "Requirement already satisfied: typing-extensions<5.0.0,>=3.10.0 in /usr/local/lib/python3.7/dist-packages (from tinydb>=3.0->pythainlp) (4.2.0)\n",
            "Installing collected packages: tinydb, pythainlp\n",
            "Successfully installed pythainlp-3.0.8 tinydb-4.7.0\n",
            "Collecting python-crfsuite\n",
            "  Downloading python_crfsuite-0.9.8-cp37-cp37m-manylinux_2_17_x86_64.manylinux2014_x86_64.whl (965 kB)\n",
            "\u001b[K     |████████████████████████████████| 965 kB 6.8 MB/s \n",
            "\u001b[?25hInstalling collected packages: python-crfsuite\n",
            "Successfully installed python-crfsuite-0.9.8\n"
          ]
        }
      ]
    },
    {
      "cell_type": "code",
      "execution_count": null,
      "metadata": {
        "id": "_3I-K_CHkGMe"
      },
      "outputs": [],
      "source": [
        "import pandas as pd\n",
        "import json\n",
        "import random\n",
        "from tqdm import tqdm\n",
        "\n",
        "import pythainlp\n",
        "import pycrfsuite\n",
        "from pythainlp.tokenize.crfcut import segment"
      ]
    },
    {
      "cell_type": "code",
      "source": [
        "def preprocess_sentencepiece(x):\n",
        "    try:\n",
        "        output = []\n",
        "        \n",
        "        sentences = segment(\" \".join(x))\n",
        "        for sentence in sentences:\n",
        "            temp = sentence.strip()\n",
        "            if temp == \"\":\n",
        "                if len(output) != 0 and output[-1] != \" \":\n",
        "                    output.append(\" \")\n",
        "            else:\n",
        "                output.append(temp)\n",
        "        return output\n",
        "        \n",
        "    except Exception as e:\n",
        "        print(e)\n",
        "        print(x)\n",
        "        return []"
      ],
      "metadata": {
        "id": "x6VshiL2kNg0"
      },
      "execution_count": null,
      "outputs": []
    },
    {
      "cell_type": "code",
      "source": [
        "def to_list(x):\n",
        "    output = []\n",
        "    output.append(x)\n",
        "    return output"
      ],
      "metadata": {
        "id": "fa9yuPBZqXWh"
      },
      "execution_count": null,
      "outputs": []
    },
    {
      "cell_type": "code",
      "source": [
        "def process_data(file_path, out_path):\n",
        "    df = pd.read_json(path_or_buf=file_path, lines=True)\n",
        "\n",
        "    df = df.loc[df.astype(str).drop_duplicates().index]\n",
        "\n",
        "    # Matichon\n",
        "    # df = df.drop([713, 763, 853, 859]) \n",
        "\n",
        "    # Kapook\n",
        "    # df = df.drop([836]) \n",
        "    # df[\"Detail\"] = df[\"Detail\"].apply(lambda x: x[:-4])\n",
        "    \n",
        "    df[\"Title\"] = df[\"Title\"].apply(to_list)\n",
        "    df[\"Title\"] = df[\"Title\"].apply(preprocess_sentencepiece)\n",
        "    df[\"Detail\"] = df[\"Detail\"].apply(preprocess_sentencepiece)\n",
        "\n",
        "    df[\"Document Tag\"] = \"Fact News\"\n",
        "\n",
        "    df['json'] = df.apply(lambda x: x.to_json(), axis=1)\n",
        "\n",
        "    file_data = open(out_path, \"w\", encoding=\"utf8\")\n",
        "\n",
        "    for index, row in df.iterrows():\n",
        "        file_data.write(row[\"json\"]+\"\\n\")  \n",
        "\n",
        "    file_data.close()"
      ],
      "metadata": {
        "id": "Y1hGWn8jkNjO"
      },
      "execution_count": null,
      "outputs": []
    },
    {
      "cell_type": "markdown",
      "source": [
        "## Pptvhd36"
      ],
      "metadata": {
        "id": "RuTLC3Ajcedv"
      }
    },
    {
      "cell_type": "code",
      "source": [
        "def process_pptvhd36_data(file_path, out_path):\n",
        "    df = pd.read_json(path_or_buf=file_path, lines=True)\n",
        "    df = df.loc[df.astype(str).drop_duplicates().index]\n",
        "    \n",
        "    df[\"Title\"] = df[\"title\"].apply(to_list)\n",
        "    df[\"Title\"] = df[\"Title\"].apply(preprocess_sentencepiece)\n",
        "\n",
        "    df[\"subcontent\"] = df[\"subcontent\"].apply(to_list)\n",
        "    df[\"subcontent\"] = df[\"subcontent\"].apply(preprocess_sentencepiece)\n",
        "\n",
        "    df[\"content\"] = df[\"content\"].apply(preprocess_sentencepiece)\n",
        "\n",
        "    df[\"Detail\"] = df[\"subcontent\"].add(df[\"content\"])\n",
        "    df[\"Document Tag\"] = \"Fact News\"\n",
        "    df.drop([\"title\", \"subcontent\", \"content\"], axis=1, inplace=True)\n",
        "\n",
        "    df['json'] = df.apply(lambda x: x.to_json(), axis=1)\n",
        "    \n",
        "    file_data = open(out_path, \"w\", encoding=\"utf8\")\n",
        "\n",
        "    for index, row in df.iterrows():\n",
        "        file_data.write(row[\"json\"]+\"\\n\")  \n",
        "\n",
        "    file_data.close()"
      ],
      "metadata": {
        "id": "cuS4xY5SHjCQ"
      },
      "execution_count": null,
      "outputs": []
    },
    {
      "cell_type": "markdown",
      "source": [
        "## BBC"
      ],
      "metadata": {
        "id": "i11G-IdUcbEZ"
      }
    },
    {
      "cell_type": "code",
      "source": [
        "def process_bbc_data(file_path, out_path):\n",
        "    df = pd.read_json(path_or_buf=file_path, lines=True)\n",
        "\n",
        "    df = df.loc[df.astype(str).drop_duplicates().index]\n",
        "    \n",
        "    df[\"Title\"] = df[\"title\"].apply(to_list)\n",
        "    df[\"Title\"] = df[\"Title\"].apply(preprocess_sentencepiece)\n",
        "    df[\"Detail\"] = df[\"content\"].apply(preprocess_sentencepiece)\n",
        "\n",
        "    df[\"Document Tag\"] = \"Fact News\"\n",
        "\n",
        "    df.drop([\"title\", \"content\"], axis=1, inplace=True)\n",
        "\n",
        "    df['json'] = df.apply(lambda x: x.to_json(), axis=1)\n",
        "\n",
        "    file_data = open(out_path, \"w\", encoding=\"utf8\")\n",
        "\n",
        "    for index, row in df.iterrows():\n",
        "        file_data.write(row[\"json\"]+\"\\n\")  \n",
        "\n",
        "    file_data.close()"
      ],
      "metadata": {
        "id": "LQGo2PB3UwST"
      },
      "execution_count": null,
      "outputs": []
    },
    {
      "cell_type": "markdown",
      "source": [
        "## Fake News"
      ],
      "metadata": {
        "id": "V8wFQcuNcwfz"
      }
    },
    {
      "cell_type": "code",
      "source": [
        "def process_fake_news_data(file_path, file_data):\n",
        "    f = open(file_path, \"r\")\n",
        "    temp = open(\"/content/temp.json\", \"w\", encoding=\"utf8\")\n",
        "\n",
        "    title = []\n",
        "    detail = []\n",
        "\n",
        "    isSeparator = False\n",
        "    isTitle = False\n",
        "\n",
        "    for line in f:\n",
        "        line = line.strip()\n",
        "        if line == \"-[separator]-\":\n",
        "            isSeparator, isTitle = True, False\n",
        "            detail.append(\"\")\n",
        "            continue\n",
        "        \n",
        "        if isSeparator and not isTitle:\n",
        "            title.append(line)\n",
        "            isSeparator, isTitle = True, True\n",
        "        elif isSeparator and isTitle:\n",
        "            detail[-1] += line\n",
        "\n",
        "    for i in range(len(title)):\n",
        "    \n",
        "        data = {\n",
        "            \"Title\": title[i],\n",
        "            \"Detail\": detail[i]\n",
        "        }\n",
        "\n",
        "        json_string = json.dumps(data, ensure_ascii=False)\n",
        "\n",
        "        temp.write(json_string+\"\\n\")  \n",
        "\n",
        "    temp.close()\n",
        "    f.close()\n",
        "\n",
        "    process_fake_news_data_helper(\"/content/temp.json\", file_data)"
      ],
      "metadata": {
        "id": "_HyQNBQvYqHy"
      },
      "execution_count": null,
      "outputs": []
    },
    {
      "cell_type": "code",
      "source": [
        "def process_fake_news_data_helper(file_path, out_path):\n",
        "    df = pd.read_json(path_or_buf=file_path, lines=True)\n",
        "\n",
        "    df = df.loc[df.astype(str).drop_duplicates().index]\n",
        "    \n",
        "    df[\"Title\"] = df[\"Title\"].apply(to_list)\n",
        "    df[\"Title\"] = df[\"Title\"].apply(preprocess_sentencepiece)\n",
        "    df[\"Detail\"] = df[\"Detail\"].apply(to_list)\n",
        "    df[\"Detail\"] = df[\"Detail\"].apply(preprocess_sentencepiece)\n",
        "\n",
        "    df[\"Document Tag\"] = \"Fake News\"\n",
        "\n",
        "    df['json'] = df.apply(lambda x: x.to_json(), axis=1)\n",
        "\n",
        "    file_data = open(out_path, \"w\", encoding=\"utf8\")\n",
        "\n",
        "    for index, row in df.iterrows():\n",
        "        file_data.write(row[\"json\"]+\"\\n\")  \n",
        "\n",
        "    file_data.close()"
      ],
      "metadata": {
        "id": "maRy0NPiYV2z"
      },
      "execution_count": null,
      "outputs": []
    },
    {
      "cell_type": "code",
      "source": [
        "file_path = \"/content/drive/MyDrive/Pattern/raw/kapook_data.json\"\n",
        "file_data = \"/content/drive/MyDrive/Pattern/dataset/sentencepiece/kapook_data_sentencepiece_dataset.json\"\n",
        "process_data(file_path, file_data)"
      ],
      "metadata": {
        "id": "0KcyUD9CkNl_"
      },
      "execution_count": null,
      "outputs": []
    },
    {
      "cell_type": "code",
      "source": [
        "check = pd.read_json(path_or_buf=file_data, lines=True)\n",
        "check.head()"
      ],
      "metadata": {
        "id": "fi7JCzAFlZ9W",
        "colab": {
          "base_uri": "https://localhost:8080/",
          "height": 206
        },
        "outputId": "adf79db8-31f6-425d-ba68-5996d1154ed8"
      },
      "execution_count": null,
      "outputs": [
        {
          "output_type": "execute_result",
          "data": {
            "text/plain": [
              "                                               Title  \\\n",
              "0       [WHO เผยยอดตายอีโบลา พุ่งทะลุ 1,900 รายแล้ว]   \n",
              "1  [หนุ่มอดีตเด็กอ้วนฮึดฟิตหุ่นล่ำ แต่กลับป่วย \"ไ...   \n",
              "2  [อันตราย !, พบสารกันบูดในขนมจีนสูงเกินมาตรฐาน,...   \n",
              "3  [กรมอนามัย เตือน กินไข่ดิบเสี่ยงปนเปื้อนเชื้อจ...   \n",
              "4  [ดีเอสไอ บุกค้นโรงงานผลิตอาหารเสริม เมโซ หลังพ...   \n",
              "\n",
              "                                              Detail Document Tag  \n",
              "0  [WHO เผยยอดตายอีโบลา พุ่งทะลุ 1,900 รายแล้วภาพ...    Fact News  \n",
              "1  [น้ำหนักเกินร้อย, หันมาฟิตหุ่นจนล่ำกล้ามโต แต่...    Fact News  \n",
              "2  [มูลนิธิเพื่อผู้บริโภค, สุ่มตรวจ พบตกค้างในขนม...    Fact News  \n",
              "3  [10 ตุลาคม 2557 กรมอนามัย เตือน การรับประทานไข...    Fact News  \n",
              "4  [ดีเอสไอ บุกค้นโรงงานผลิตอาหารเสริม เมโซ หลังพ...    Fact News  "
            ],
            "text/html": [
              "\n",
              "  <div id=\"df-c2e1a820-9f50-4b78-a283-10206a13f2f8\">\n",
              "    <div class=\"colab-df-container\">\n",
              "      <div>\n",
              "<style scoped>\n",
              "    .dataframe tbody tr th:only-of-type {\n",
              "        vertical-align: middle;\n",
              "    }\n",
              "\n",
              "    .dataframe tbody tr th {\n",
              "        vertical-align: top;\n",
              "    }\n",
              "\n",
              "    .dataframe thead th {\n",
              "        text-align: right;\n",
              "    }\n",
              "</style>\n",
              "<table border=\"1\" class=\"dataframe\">\n",
              "  <thead>\n",
              "    <tr style=\"text-align: right;\">\n",
              "      <th></th>\n",
              "      <th>Title</th>\n",
              "      <th>Detail</th>\n",
              "      <th>Document Tag</th>\n",
              "    </tr>\n",
              "  </thead>\n",
              "  <tbody>\n",
              "    <tr>\n",
              "      <th>0</th>\n",
              "      <td>[WHO เผยยอดตายอีโบลา พุ่งทะลุ 1,900 รายแล้ว]</td>\n",
              "      <td>[WHO เผยยอดตายอีโบลา พุ่งทะลุ 1,900 รายแล้วภาพ...</td>\n",
              "      <td>Fact News</td>\n",
              "    </tr>\n",
              "    <tr>\n",
              "      <th>1</th>\n",
              "      <td>[หนุ่มอดีตเด็กอ้วนฮึดฟิตหุ่นล่ำ แต่กลับป่วย \"ไ...</td>\n",
              "      <td>[น้ำหนักเกินร้อย, หันมาฟิตหุ่นจนล่ำกล้ามโต แต่...</td>\n",
              "      <td>Fact News</td>\n",
              "    </tr>\n",
              "    <tr>\n",
              "      <th>2</th>\n",
              "      <td>[อันตราย !, พบสารกันบูดในขนมจีนสูงเกินมาตรฐาน,...</td>\n",
              "      <td>[มูลนิธิเพื่อผู้บริโภค, สุ่มตรวจ พบตกค้างในขนม...</td>\n",
              "      <td>Fact News</td>\n",
              "    </tr>\n",
              "    <tr>\n",
              "      <th>3</th>\n",
              "      <td>[กรมอนามัย เตือน กินไข่ดิบเสี่ยงปนเปื้อนเชื้อจ...</td>\n",
              "      <td>[10 ตุลาคม 2557 กรมอนามัย เตือน การรับประทานไข...</td>\n",
              "      <td>Fact News</td>\n",
              "    </tr>\n",
              "    <tr>\n",
              "      <th>4</th>\n",
              "      <td>[ดีเอสไอ บุกค้นโรงงานผลิตอาหารเสริม เมโซ หลังพ...</td>\n",
              "      <td>[ดีเอสไอ บุกค้นโรงงานผลิตอาหารเสริม เมโซ หลังพ...</td>\n",
              "      <td>Fact News</td>\n",
              "    </tr>\n",
              "  </tbody>\n",
              "</table>\n",
              "</div>\n",
              "      <button class=\"colab-df-convert\" onclick=\"convertToInteractive('df-c2e1a820-9f50-4b78-a283-10206a13f2f8')\"\n",
              "              title=\"Convert this dataframe to an interactive table.\"\n",
              "              style=\"display:none;\">\n",
              "        \n",
              "  <svg xmlns=\"http://www.w3.org/2000/svg\" height=\"24px\"viewBox=\"0 0 24 24\"\n",
              "       width=\"24px\">\n",
              "    <path d=\"M0 0h24v24H0V0z\" fill=\"none\"/>\n",
              "    <path d=\"M18.56 5.44l.94 2.06.94-2.06 2.06-.94-2.06-.94-.94-2.06-.94 2.06-2.06.94zm-11 1L8.5 8.5l.94-2.06 2.06-.94-2.06-.94L8.5 2.5l-.94 2.06-2.06.94zm10 10l.94 2.06.94-2.06 2.06-.94-2.06-.94-.94-2.06-.94 2.06-2.06.94z\"/><path d=\"M17.41 7.96l-1.37-1.37c-.4-.4-.92-.59-1.43-.59-.52 0-1.04.2-1.43.59L10.3 9.45l-7.72 7.72c-.78.78-.78 2.05 0 2.83L4 21.41c.39.39.9.59 1.41.59.51 0 1.02-.2 1.41-.59l7.78-7.78 2.81-2.81c.8-.78.8-2.07 0-2.86zM5.41 20L4 18.59l7.72-7.72 1.47 1.35L5.41 20z\"/>\n",
              "  </svg>\n",
              "      </button>\n",
              "      \n",
              "  <style>\n",
              "    .colab-df-container {\n",
              "      display:flex;\n",
              "      flex-wrap:wrap;\n",
              "      gap: 12px;\n",
              "    }\n",
              "\n",
              "    .colab-df-convert {\n",
              "      background-color: #E8F0FE;\n",
              "      border: none;\n",
              "      border-radius: 50%;\n",
              "      cursor: pointer;\n",
              "      display: none;\n",
              "      fill: #1967D2;\n",
              "      height: 32px;\n",
              "      padding: 0 0 0 0;\n",
              "      width: 32px;\n",
              "    }\n",
              "\n",
              "    .colab-df-convert:hover {\n",
              "      background-color: #E2EBFA;\n",
              "      box-shadow: 0px 1px 2px rgba(60, 64, 67, 0.3), 0px 1px 3px 1px rgba(60, 64, 67, 0.15);\n",
              "      fill: #174EA6;\n",
              "    }\n",
              "\n",
              "    [theme=dark] .colab-df-convert {\n",
              "      background-color: #3B4455;\n",
              "      fill: #D2E3FC;\n",
              "    }\n",
              "\n",
              "    [theme=dark] .colab-df-convert:hover {\n",
              "      background-color: #434B5C;\n",
              "      box-shadow: 0px 1px 3px 1px rgba(0, 0, 0, 0.15);\n",
              "      filter: drop-shadow(0px 1px 2px rgba(0, 0, 0, 0.3));\n",
              "      fill: #FFFFFF;\n",
              "    }\n",
              "  </style>\n",
              "\n",
              "      <script>\n",
              "        const buttonEl =\n",
              "          document.querySelector('#df-c2e1a820-9f50-4b78-a283-10206a13f2f8 button.colab-df-convert');\n",
              "        buttonEl.style.display =\n",
              "          google.colab.kernel.accessAllowed ? 'block' : 'none';\n",
              "\n",
              "        async function convertToInteractive(key) {\n",
              "          const element = document.querySelector('#df-c2e1a820-9f50-4b78-a283-10206a13f2f8');\n",
              "          const dataTable =\n",
              "            await google.colab.kernel.invokeFunction('convertToInteractive',\n",
              "                                                     [key], {});\n",
              "          if (!dataTable) return;\n",
              "\n",
              "          const docLinkHtml = 'Like what you see? Visit the ' +\n",
              "            '<a target=\"_blank\" href=https://colab.research.google.com/notebooks/data_table.ipynb>data table notebook</a>'\n",
              "            + ' to learn more about interactive tables.';\n",
              "          element.innerHTML = '';\n",
              "          dataTable['output_type'] = 'display_data';\n",
              "          await google.colab.output.renderOutput(dataTable, element);\n",
              "          const docLink = document.createElement('div');\n",
              "          docLink.innerHTML = docLinkHtml;\n",
              "          element.appendChild(docLink);\n",
              "        }\n",
              "      </script>\n",
              "    </div>\n",
              "  </div>\n",
              "  "
            ]
          },
          "metadata": {},
          "execution_count": 57
        }
      ]
    },
    {
      "cell_type": "code",
      "source": [
        "check.describe()"
      ],
      "metadata": {
        "colab": {
          "base_uri": "https://localhost:8080/",
          "height": 175
        },
        "id": "KpFrXc1ppGBd",
        "outputId": "f9c28e80-57be-46bd-9d54-2cc8cfb70ad3"
      },
      "execution_count": null,
      "outputs": [
        {
          "output_type": "execute_result",
          "data": {
            "text/plain": [
              "                                               Title  \\\n",
              "count                                           1019   \n",
              "unique                                          1019   \n",
              "top     [WHO เผยยอดตายอีโบลา พุ่งทะลุ 1,900 รายแล้ว]   \n",
              "freq                                               1   \n",
              "\n",
              "                                                   Detail Document Tag  \n",
              "count                                                1019         1019  \n",
              "unique                                               1019            1  \n",
              "top     [WHO เผยยอดตายอีโบลา พุ่งทะลุ 1,900 รายแล้วภาพ...    Fact News  \n",
              "freq                                                    1         1019  "
            ],
            "text/html": [
              "\n",
              "  <div id=\"df-b3234d3c-946f-43c1-bb09-27fbfbc38a39\">\n",
              "    <div class=\"colab-df-container\">\n",
              "      <div>\n",
              "<style scoped>\n",
              "    .dataframe tbody tr th:only-of-type {\n",
              "        vertical-align: middle;\n",
              "    }\n",
              "\n",
              "    .dataframe tbody tr th {\n",
              "        vertical-align: top;\n",
              "    }\n",
              "\n",
              "    .dataframe thead th {\n",
              "        text-align: right;\n",
              "    }\n",
              "</style>\n",
              "<table border=\"1\" class=\"dataframe\">\n",
              "  <thead>\n",
              "    <tr style=\"text-align: right;\">\n",
              "      <th></th>\n",
              "      <th>Title</th>\n",
              "      <th>Detail</th>\n",
              "      <th>Document Tag</th>\n",
              "    </tr>\n",
              "  </thead>\n",
              "  <tbody>\n",
              "    <tr>\n",
              "      <th>count</th>\n",
              "      <td>1019</td>\n",
              "      <td>1019</td>\n",
              "      <td>1019</td>\n",
              "    </tr>\n",
              "    <tr>\n",
              "      <th>unique</th>\n",
              "      <td>1019</td>\n",
              "      <td>1019</td>\n",
              "      <td>1</td>\n",
              "    </tr>\n",
              "    <tr>\n",
              "      <th>top</th>\n",
              "      <td>[WHO เผยยอดตายอีโบลา พุ่งทะลุ 1,900 รายแล้ว]</td>\n",
              "      <td>[WHO เผยยอดตายอีโบลา พุ่งทะลุ 1,900 รายแล้วภาพ...</td>\n",
              "      <td>Fact News</td>\n",
              "    </tr>\n",
              "    <tr>\n",
              "      <th>freq</th>\n",
              "      <td>1</td>\n",
              "      <td>1</td>\n",
              "      <td>1019</td>\n",
              "    </tr>\n",
              "  </tbody>\n",
              "</table>\n",
              "</div>\n",
              "      <button class=\"colab-df-convert\" onclick=\"convertToInteractive('df-b3234d3c-946f-43c1-bb09-27fbfbc38a39')\"\n",
              "              title=\"Convert this dataframe to an interactive table.\"\n",
              "              style=\"display:none;\">\n",
              "        \n",
              "  <svg xmlns=\"http://www.w3.org/2000/svg\" height=\"24px\"viewBox=\"0 0 24 24\"\n",
              "       width=\"24px\">\n",
              "    <path d=\"M0 0h24v24H0V0z\" fill=\"none\"/>\n",
              "    <path d=\"M18.56 5.44l.94 2.06.94-2.06 2.06-.94-2.06-.94-.94-2.06-.94 2.06-2.06.94zm-11 1L8.5 8.5l.94-2.06 2.06-.94-2.06-.94L8.5 2.5l-.94 2.06-2.06.94zm10 10l.94 2.06.94-2.06 2.06-.94-2.06-.94-.94-2.06-.94 2.06-2.06.94z\"/><path d=\"M17.41 7.96l-1.37-1.37c-.4-.4-.92-.59-1.43-.59-.52 0-1.04.2-1.43.59L10.3 9.45l-7.72 7.72c-.78.78-.78 2.05 0 2.83L4 21.41c.39.39.9.59 1.41.59.51 0 1.02-.2 1.41-.59l7.78-7.78 2.81-2.81c.8-.78.8-2.07 0-2.86zM5.41 20L4 18.59l7.72-7.72 1.47 1.35L5.41 20z\"/>\n",
              "  </svg>\n",
              "      </button>\n",
              "      \n",
              "  <style>\n",
              "    .colab-df-container {\n",
              "      display:flex;\n",
              "      flex-wrap:wrap;\n",
              "      gap: 12px;\n",
              "    }\n",
              "\n",
              "    .colab-df-convert {\n",
              "      background-color: #E8F0FE;\n",
              "      border: none;\n",
              "      border-radius: 50%;\n",
              "      cursor: pointer;\n",
              "      display: none;\n",
              "      fill: #1967D2;\n",
              "      height: 32px;\n",
              "      padding: 0 0 0 0;\n",
              "      width: 32px;\n",
              "    }\n",
              "\n",
              "    .colab-df-convert:hover {\n",
              "      background-color: #E2EBFA;\n",
              "      box-shadow: 0px 1px 2px rgba(60, 64, 67, 0.3), 0px 1px 3px 1px rgba(60, 64, 67, 0.15);\n",
              "      fill: #174EA6;\n",
              "    }\n",
              "\n",
              "    [theme=dark] .colab-df-convert {\n",
              "      background-color: #3B4455;\n",
              "      fill: #D2E3FC;\n",
              "    }\n",
              "\n",
              "    [theme=dark] .colab-df-convert:hover {\n",
              "      background-color: #434B5C;\n",
              "      box-shadow: 0px 1px 3px 1px rgba(0, 0, 0, 0.15);\n",
              "      filter: drop-shadow(0px 1px 2px rgba(0, 0, 0, 0.3));\n",
              "      fill: #FFFFFF;\n",
              "    }\n",
              "  </style>\n",
              "\n",
              "      <script>\n",
              "        const buttonEl =\n",
              "          document.querySelector('#df-b3234d3c-946f-43c1-bb09-27fbfbc38a39 button.colab-df-convert');\n",
              "        buttonEl.style.display =\n",
              "          google.colab.kernel.accessAllowed ? 'block' : 'none';\n",
              "\n",
              "        async function convertToInteractive(key) {\n",
              "          const element = document.querySelector('#df-b3234d3c-946f-43c1-bb09-27fbfbc38a39');\n",
              "          const dataTable =\n",
              "            await google.colab.kernel.invokeFunction('convertToInteractive',\n",
              "                                                     [key], {});\n",
              "          if (!dataTable) return;\n",
              "\n",
              "          const docLinkHtml = 'Like what you see? Visit the ' +\n",
              "            '<a target=\"_blank\" href=https://colab.research.google.com/notebooks/data_table.ipynb>data table notebook</a>'\n",
              "            + ' to learn more about interactive tables.';\n",
              "          element.innerHTML = '';\n",
              "          dataTable['output_type'] = 'display_data';\n",
              "          await google.colab.output.renderOutput(dataTable, element);\n",
              "          const docLink = document.createElement('div');\n",
              "          docLink.innerHTML = docLinkHtml;\n",
              "          element.appendChild(docLink);\n",
              "        }\n",
              "      </script>\n",
              "    </div>\n",
              "  </div>\n",
              "  "
            ]
          },
          "metadata": {},
          "execution_count": 58
        }
      ]
    },
    {
      "cell_type": "code",
      "source": [
        "def merge_sentencepiece():\n",
        "    file_paths = [\"/content/drive/MyDrive/Pattern/dataset/sentencepiece/bbc_data_sentencepiece_dataset.json\",\n",
        "              \"/content/drive/MyDrive/Pattern/dataset/sentencepiece/fake_news_data_sentencepiece_dataset.json\",\n",
        "              \"/content/drive/MyDrive/Pattern/dataset/sentencepiece/kapook_data_sentencepiece_dataset.json\",\n",
        "              \"/content/drive/MyDrive/Pattern/dataset/sentencepiece/matichon_data_sentencepiece_dataset.json\",\n",
        "              \"/content/drive/MyDrive/Pattern/dataset/sentencepiece/pptvhd36_data_sentencepiece_dataset.json\",\n",
        "              \"/content/drive/MyDrive/Pattern/dataset/sentencepiece/sanook_data_sentencepiece_dataset.json\"]\n",
        "\n",
        "    out_path = \"/content/drive/MyDrive/Pattern/dataset/sentencepiece/sentencepiece.txt\"\n",
        "\n",
        "    df = None\n",
        "\n",
        "    for file_path in file_paths:\n",
        "        _df = pd.read_json(path_or_buf=file_path, lines=True)\n",
        "        df = pd.concat([df, _df])\n",
        "\n",
        "    out = open(out_path, \"w\", encoding=\"utf8\") \n",
        "    for idx, row in tqdm(df.iterrows()):\n",
        "        for i in row[0]:\n",
        "            out.write(i+\"\\n\")\n",
        "        for j in row[1]:\n",
        "            out.write(j+\"\\n\")\n",
        "    out.close()"
      ],
      "metadata": {
        "id": "s5whRyUw2lM3"
      },
      "execution_count": null,
      "outputs": []
    },
    {
      "cell_type": "code",
      "source": [
        "merge_sentencepiece()"
      ],
      "metadata": {
        "id": "XuZKsLCgaNNB",
        "colab": {
          "base_uri": "https://localhost:8080/"
        },
        "outputId": "776156ab-9eb8-41d7-bdda-8f7c7811f1f2"
      },
      "execution_count": null,
      "outputs": [
        {
          "output_type": "stream",
          "name": "stderr",
          "text": [
            "11852it [00:01, 7375.36it/s]\n"
          ]
        }
      ]
    },
    {
      "cell_type": "code",
      "source": [
        ""
      ],
      "metadata": {
        "id": "IfFjoZrO4Wcc"
      },
      "execution_count": null,
      "outputs": []
    }
  ]
}